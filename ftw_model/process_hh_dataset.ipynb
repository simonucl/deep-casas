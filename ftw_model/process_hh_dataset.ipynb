{
 "cells": [
  {
   "cell_type": "code",
   "execution_count": null,
   "metadata": {},
   "outputs": [],
   "source": [
    "import datetime\n",
    "import os\n",
    "import re\n",
    "from collections import Counter\n",
    "from datetime import datetime, timedelta\n",
    "\n",
    "import numpy as np\n",
    "from keras.preprocessing import sequence\n",
    "import sys\n",
    "import pandas as pd\n",
    "import matplotlib.pyplot as plt\n",
    "from tqdm import tqdm, trange\n",
    "import umap\n",
    "from sklearn.preprocessing import StandardScaler\n",
    "from sklearn.metrics import confusion_matrix, classification_report, ConfusionMatrixDisplay\n",
    "from sklearn.model_selection import StratifiedKFold, TimeSeriesSplit\n",
    "from sklearn.ensemble import RandomForestClassifier\n",
    "import seaborn as sns\n",
    "from scipy.cluster.hierarchy import dendrogram, linkage\n",
    "import sklearn"
   ]
  },
  {
   "cell_type": "code",
   "execution_count": null,
   "metadata": {},
   "outputs": [],
   "source": [
    "activity_mapping = {\n",
    "                              \"Cook_Breakfast\": \"Cook\",\n",
    "                              \"Cook_Lunch\": \"Cook\",\n",
    "                              \"Cook_Dinner\": \"Cook\",\n",
    "                              \"Eat_Breakfast\": \"Eat\",\n",
    "                              \"Eat_Lunch\": \"Eat\",\n",
    "                              \"Eat_Dinner\": \"Eat\",\n",
    "                              \"Morning_Meds\": \"Take_Medicine\",\n",
    "                              \"Evening_Meds\": \"Take_Medicine\",\n",
    "                              \"Wash_Breakfast_Dishes\": \"Wash_Dishes\",\n",
    "                              \"Wash_Lunch_Dishes\": \"Wash_Dishes\",\n",
    "                              \"Wash_Dinner_Dishes\": \"Wash_Dishes\",\n",
    "                              \"Work_At_Table\": \"Work\",\n",
    "                              \"Watch_TV\": \"Relax\",\n",
    "                              \"Read\": \"Work\",\n",
    "                              \"Entertain_Guests\": \"Relax\",\n",
    "                              \"Sleep_Out_Of_Bed\": \"Relax\",\n",
    "                              \"Step_Out\": \"Leave_Home\",\n",
    "                     }\n",
    "FTWs = [720, 540, 360, 180, 60, 30, 15, 5, 3, 2, 1, 0, 0]\n",
    "# FTWs = [0, 1, 1, 2, 3, 5, 8, 13, 21, 34, 55, 89, 144][::-1]\n",
    "ftw_window = 10"
   ]
  },
  {
   "cell_type": "code",
   "execution_count": null,
   "metadata": {},
   "outputs": [],
   "source": [
    "\n",
    "ann_dataset = pd.read_csv('../hh_dataset/hh102/hh102.ann.txt', sep='\\t')\n",
    "\n",
    "raw_columns = ['Date & Time', 'Sensor ID', 'Room-level', 'Sensor location', 'Message', 'Sensor Type']\n",
    "ann_columns = raw_columns + ['Activity']\n",
    "\n",
    "ann_dataset.columns = ann_columns\n",
    "\n",
    "ann_dataset['Activity'] = ann_dataset['Activity'].apply(lambda x: activity_mapping[x] if x in activity_mapping else x)\n",
    "\n",
    "activity2id = {}\n",
    "count = 0\n",
    "for act in ann_dataset['Activity'].unique():\n",
    "    if act != 'Other_Activity':\n",
    "        activity2id[act] = count\n",
    "        count += 1\n",
    "activity2id['Other_Activity'] = count\n",
    "activity2id"
   ]
  },
  {
   "cell_type": "code",
   "execution_count": null,
   "metadata": {},
   "outputs": [],
   "source": [
    "ann_dataset['Date & Time'] = pd.to_datetime(ann_dataset['Date & Time'], format='%Y-%m-%d %H:%M:%S')\n",
    "start_time, end_time = ann_dataset['Date & Time'].min(), ann_dataset['Date & Time'].max()\n",
    "timeframed_dataset = ann_dataset.set_index(['Date & Time'])"
   ]
  },
  {
   "cell_type": "code",
   "execution_count": null,
   "metadata": {},
   "outputs": [],
   "source": [
    "## TODO reduce the time delta and compute the result between different time window\n",
    "\n",
    "delta = timedelta(minutes=2)\n",
    "\n",
    "number_of_time_window = int(np.ceil((end_time - start_time) / delta))\n",
    "activities = np.zeros((number_of_time_window, len(activity2id)-1))\n",
    "# timeframed_dataset[start_time: start_time+delta]\n",
    "for i in range(number_of_time_window):\n",
    "    activity_within_range = timeframed_dataset[start_time+i*delta: start_time+(i+1)*delta]['Activity'].unique()\n",
    "    for j in activity_within_range:\n",
    "        if j == \"Other_Activity\":\n",
    "            continue\n",
    "        else:\n",
    "            activities[i][activity2id[j]] = 1"
   ]
  },
  {
   "cell_type": "code",
   "execution_count": null,
   "metadata": {},
   "outputs": [],
   "source": [
    "def get_time_window(offset):\n",
    "    return timeframed_dataset[start_time+offset*delta: start_time+(offset+1)*delta]"
   ]
  },
  {
   "cell_type": "code",
   "execution_count": 1,
   "metadata": {},
   "outputs": [
    {
     "ename": "NameError",
     "evalue": "name 'timeframed_dataset' is not defined",
     "output_type": "error",
     "traceback": [
      "\u001b[0;31m---------------------------------------------------------------------------\u001b[0m",
      "\u001b[0;31mNameError\u001b[0m                                 Traceback (most recent call last)",
      "\u001b[0;32m/tmp/ipykernel_2978951/553526996.py\u001b[0m in \u001b[0;36m<module>\u001b[0;34m\u001b[0m\n\u001b[0;32m----> 1\u001b[0;31m \u001b[0msensors_list\u001b[0m \u001b[0;34m=\u001b[0m \u001b[0mlist\u001b[0m\u001b[0;34m(\u001b[0m\u001b[0mfilter\u001b[0m\u001b[0;34m(\u001b[0m\u001b[0;32mlambda\u001b[0m \u001b[0mx\u001b[0m \u001b[0;34m:\u001b[0m \u001b[0mx\u001b[0m\u001b[0;34m[\u001b[0m\u001b[0;36m0\u001b[0m\u001b[0;34m]\u001b[0m \u001b[0;34m!=\u001b[0m \u001b[0;34m'T'\u001b[0m \u001b[0;34m,\u001b[0m \u001b[0mtimeframed_dataset\u001b[0m\u001b[0;34m[\u001b[0m\u001b[0;34m'Sensor ID'\u001b[0m\u001b[0;34m]\u001b[0m\u001b[0;34m.\u001b[0m\u001b[0munique\u001b[0m\u001b[0;34m(\u001b[0m\u001b[0;34m)\u001b[0m\u001b[0;34m)\u001b[0m\u001b[0;34m)\u001b[0m\u001b[0;34m\u001b[0m\u001b[0;34m\u001b[0m\u001b[0m\n\u001b[0m\u001b[1;32m      2\u001b[0m \u001b[0msensors_list\u001b[0m\u001b[0;34m\u001b[0m\u001b[0;34m\u001b[0m\u001b[0m\n\u001b[1;32m      3\u001b[0m \u001b[0msensor2id\u001b[0m \u001b[0;34m=\u001b[0m \u001b[0;34m{\u001b[0m\u001b[0msensor\u001b[0m\u001b[0;34m:\u001b[0m \u001b[0mi\u001b[0m \u001b[0;32mfor\u001b[0m \u001b[0mi\u001b[0m \u001b[0;34m,\u001b[0m \u001b[0msensor\u001b[0m \u001b[0;32min\u001b[0m \u001b[0menumerate\u001b[0m\u001b[0;34m(\u001b[0m\u001b[0msensors_list\u001b[0m\u001b[0;34m)\u001b[0m\u001b[0;34m}\u001b[0m\u001b[0;34m\u001b[0m\u001b[0;34m\u001b[0m\u001b[0m\n\u001b[1;32m      4\u001b[0m \u001b[0;34m\u001b[0m\u001b[0m\n\u001b[1;32m      5\u001b[0m \u001b[0;32mdef\u001b[0m \u001b[0mis_triggered_sensor\u001b[0m\u001b[0;34m(\u001b[0m\u001b[0mtup\u001b[0m\u001b[0;34m)\u001b[0m\u001b[0;34m:\u001b[0m\u001b[0;34m\u001b[0m\u001b[0;34m\u001b[0m\u001b[0m\n",
      "\u001b[0;31mNameError\u001b[0m: name 'timeframed_dataset' is not defined"
     ]
    }
   ],
   "source": [
    "sensors_list = list(filter(lambda x : x[0] != 'T' , timeframed_dataset['Sensor ID'].unique()))\n",
    "sensors_list\n",
    "sensor2id = {sensor: i for i , sensor in enumerate(sensors_list)}\n",
    "\n",
    "def is_triggered_sensor(tup):\n",
    "    timestamp, sensor, message = tup\n",
    "    if message in ['ON', 'OPEN']:\n",
    "        return timestamp, sensor2id[sensor]\n",
    "    try:\n",
    "        if int(message) >=50:\n",
    "            return timestamp, sensor2id[sensor]\n",
    "    except:\n",
    "        pass\n",
    "    return timestamp, -1\n",
    "\n",
    "def compute_sensor_activation(start_time, end_time, weight):\n",
    "    sensor_activation = np.zeros(len(sensors_list))\n",
    "    sensors_detail = list(timeframed_dataset[start_time: end_time][['Sensor ID', 'Message']].itertuples(name=None))\n",
    "    # print(sensors_detail)\n",
    "    for j in sensors_detail:\n",
    "        timestamp, sensor_triggered = is_triggered_sensor(j)\n",
    "        if sensor_triggered > -1:\n",
    "            if weight == 'flat':\n",
    "                weight = 1\n",
    "            elif weight == 'left':\n",
    "                weight = (timestamp-start_time)/(end_time-start_time)\n",
    "            elif weight == 'right':\n",
    "                weight = (end_time-timestamp)/(end_time-start_time)\n",
    "            sensor_activation[sensor_triggered] = weight\n",
    "    return sensor_activation\n",
    "\n",
    "ftw_testing = np.zeros((ftw_window, len(sensors_list)))\n",
    "i = 10\n",
    "testing = timeframed_dataset[start_time+i*delta: start_time+(i+1)*delta]\n",
    "t_star = start_time+(i+1)*delta\n",
    "for i in range(ftw_window):\n",
    "    l4, l3, l2, l1 = FTWs[i:i+4]\n",
    "    l4, l3, l2, l1 = timedelta(minutes=l4), timedelta(minutes=l3), timedelta(minutes=l2), timedelta(minutes=l1)\n",
    "\n",
    "    left_slope = compute_sensor_activation(t_star-l2, t_star-l1, weight='left')\n",
    "    flat_part = compute_sensor_activation(t_star-l3, t_star-l2, weight='flat')\n",
    "    right_slope = compute_sensor_activation(t_star-l4, t_star-l3, weight='right')\n",
    "\n",
    "    ftw_testing[i] = np.maximum(np.maximum(left_slope, flat_part), right_slope)\n",
    "np.where(ftw_testing > 0)\n",
    "ftw_testing.shape\n",
    "\n",
    "# ftw features (Shape: (number_of_time_window, ftw_window_size, no_sensors))\n",
    "features = np.zeros((number_of_time_window, ftw_window, len(sensors_list)))\n",
    "for i in trange(number_of_time_window):\n",
    "    t_star = start_time+(i+1)*delta\n",
    "    for j in range(ftw_window):\n",
    "        l4, l3, l2, l1 = FTWs[j:j+4]\n",
    "        l4, l3, l2, l1 = timedelta(minutes=l4), timedelta(minutes=l3), timedelta(minutes=l2), timedelta(minutes=l1)\n",
    "\n",
    "        left_slope = compute_sensor_activation(t_star-l2, t_star-l1, weight='left')\n",
    "        flat_part = compute_sensor_activation(t_star-l3, t_star-l2, weight='flat')\n",
    "        right_slope = compute_sensor_activation(t_star-l4, t_star-l3, weight='right')\n",
    "\n",
    "        features[i][j] = np.maximum(np.maximum(left_slope, flat_part), right_slope)"
   ]
  },
  {
   "cell_type": "code",
   "execution_count": null,
   "metadata": {},
   "outputs": [],
   "source": [
    "print(features.shape, activities.shape)\n",
    "\n",
    "np.save('./ftw_data/fib_ftw_2mins_features.npy', features)\n",
    "np.save('./ftw_data/fib_ftw_2mins_activities.npy', activities)"
   ]
  }
 ],
 "metadata": {
  "kernelspec": {
   "display_name": "casas",
   "language": "python",
   "name": "python3"
  },
  "language_info": {
   "codemirror_mode": {
    "name": "ipython",
    "version": 3
   },
   "file_extension": ".py",
   "mimetype": "text/x-python",
   "name": "python",
   "nbconvert_exporter": "python",
   "pygments_lexer": "ipython3",
   "version": "3.7.15"
  },
  "orig_nbformat": 4,
  "vscode": {
   "interpreter": {
    "hash": "2b07d098504fae4e94052a8c08597679d68db589eb60c25e2699a70e87af64b1"
   }
  }
 },
 "nbformat": 4,
 "nbformat_minor": 2
}
