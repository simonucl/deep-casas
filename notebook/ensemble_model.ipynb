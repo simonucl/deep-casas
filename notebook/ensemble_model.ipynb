{
 "cells": [
  {
   "cell_type": "code",
   "execution_count": 1,
   "metadata": {},
   "outputs": [
    {
     "name": "stderr",
     "output_type": "stream",
     "text": [
      "/home/simon/miniconda3/envs/casas/lib/python3.7/site-packages/tqdm/auto.py:22: TqdmWarning: IProgress not found. Please update jupyter and ipywidgets. See https://ipywidgets.readthedocs.io/en/stable/user_install.html\n",
      "  from .autonotebook import tqdm as notebook_tqdm\n"
     ]
    }
   ],
   "source": [
    "import torch\n",
    "import numpy as np\n",
    "import pandas as pd\n",
    "import torch.nn as nn\n",
    "\n",
    "from sklearn.metrics import confusion_matrix, classification_report, ConfusionMatrixDisplay, f1_score\n",
    "from sklearn.model_selection import StratifiedKFold, TimeSeriesSplit\n",
    "from tqdm import tqdm, trange\n",
    "\n",
    "seed=42\n",
    "FTWs = [720, 540, 360, 180, 60, 30, 15, 5, 3, 2, 1, 0, 0]\n",
    "ftw_window = 10"
   ]
  },
  {
   "cell_type": "code",
   "execution_count": 2,
   "metadata": {},
   "outputs": [],
   "source": [
    "device = torch.device('cuda') if torch.cuda.is_available() else torch.device('cpu')"
   ]
  },
  {
   "cell_type": "code",
   "execution_count": 3,
   "metadata": {},
   "outputs": [],
   "source": [
    "features = np.load('./ftw_data/features.npy')\n",
    "activities = np.load('./ftw_data/activities.npy')"
   ]
  },
  {
   "cell_type": "code",
   "execution_count": 4,
   "metadata": {},
   "outputs": [
    {
     "name": "stdout",
     "output_type": "stream",
     "text": [
      "X_train shape: (3347, 10, 56)\n",
      "y_train shape: (3347, 17)\n"
     ]
    }
   ],
   "source": [
    "tsv = TimeSeriesSplit(n_splits=3)\n",
    "kfold = StratifiedKFold(n_splits=3, shuffle=True, random_state=seed)\n",
    "k = 0\n",
    "\n",
    "# Problem about the time series split since it would have overlap with the previous\n",
    "for train, test in list(tsv.split(features, activities))[-1:]:\n",
    "    print('X_train shape:', features[train].shape)\n",
    "    print('y_train shape:', activities[train].shape)"
   ]
  },
  {
   "cell_type": "code",
   "execution_count": 5,
   "metadata": {},
   "outputs": [],
   "source": [
    "class LSTM(nn.Module):\n",
    "    \n",
    "    def __init__(self,input_dim,hidden_dim,output_dim,layer_num):\n",
    "        super(LSTM,self).__init__()\n",
    "        self.hidden_dim = hidden_dim\n",
    "        self.output_dim = output_dim\n",
    "        self.lstm = nn.LSTM(input_dim,hidden_dim,layer_num,batch_first=False)\n",
    "        self.fc = nn.Linear(hidden_dim,output_dim)\n",
    "        self.sigmoid = nn.Sigmoid()\n",
    "        # self.bn = nn.BatchNorm1d(32)\n",
    "        \n",
    "    def forward(self,inputs):\n",
    "        # x = self.bn(inputs)\n",
    "        lstm_out,(hn,cn) = self.lstm(inputs)\n",
    "        out = self.fc(lstm_out)\n",
    "        # print(out.shape)\n",
    "        return self.sigmoid(out)"
   ]
  },
  {
   "cell_type": "code",
   "execution_count": 6,
   "metadata": {},
   "outputs": [],
   "source": [
    "ensemble_activities = activities.T"
   ]
  },
  {
   "cell_type": "markdown",
   "metadata": {},
   "source": [
    "### Mean"
   ]
  },
  {
   "cell_type": "code",
   "execution_count": 7,
   "metadata": {},
   "outputs": [],
   "source": [
    "def preprocess_features(features, method):\n",
    "    if method not in ['mean', 'mean_std', 'mean_wth_weight', 'mean_std_max_min']:\n",
    "        raise ValueError('Please double check the method parameter')\n",
    "\n",
    "    preprocessed_features = np.array([])\n",
    "    if method == 'mean':\n",
    "        return features.mean(axis=1)\n",
    "    elif method == 'mean_std':\n",
    "        preprocess_features = np.array(features.mean(axis=1))\n",
    "        print(preprocess_features.shape)\n",
    "        preprocess_features = np.concatenate([preprocess_features, features.std(axis=1)], axis=1)\n",
    "        print(preprocess_features.shape)\n",
    "        return preprocess_features\n",
    "    elif method == 'mean_wth_weight':\n",
    "        out = []\n",
    "        for instance in features:\n",
    "            out.append(np.sum([vector*((i+1)/10) for i, vector in enumerate(instance)], axis=0))\n",
    "        return np.array(out)      "
   ]
  },
  {
   "cell_type": "code",
   "execution_count": 8,
   "metadata": {},
   "outputs": [
    {
     "data": {
      "text/plain": [
       "540"
      ]
     },
     "execution_count": 8,
     "metadata": {},
     "output_type": "execute_result"
    }
   ],
   "source": [
    "FTWs\n",
    "sum = 0\n",
    "for i in range(ftw_window):\n",
    "    l4, l3, l2, l1 = FTWs[i:i+4]\n",
    "    sum += (l3 - l2)\n",
    "sum"
   ]
  },
  {
   "cell_type": "code",
   "execution_count": 9,
   "metadata": {},
   "outputs": [
    {
     "name": "stdout",
     "output_type": "stream",
     "text": [
      "56\n"
     ]
    },
    {
     "data": {
      "text/plain": [
       "LSTM(\n",
       "  (lstm): LSTM(56, 512, num_layers=3)\n",
       "  (fc): Linear(in_features=512, out_features=1, bias=True)\n",
       "  (sigmoid): Sigmoid()\n",
       ")"
      ]
     },
     "execution_count": 9,
     "metadata": {},
     "output_type": "execute_result"
    }
   ],
   "source": [
    "mean_features = preprocess_features(features, 'mean_wth_weight')\n",
    "\n",
    "input_size = mean_features.shape[1]\n",
    "\n",
    "print(input_size)\n",
    "\n",
    "n_hidden = 512\n",
    "n_categories = 1\n",
    "n_layer = 3\n",
    "rnn = LSTM(input_size,n_hidden,n_categories,n_layer)\n",
    "\n",
    "rnn.to(device)"
   ]
  },
  {
   "cell_type": "code",
   "execution_count": 10,
   "metadata": {},
   "outputs": [
    {
     "ename": "AttributeError",
     "evalue": "'function' object has no attribute 'shape'",
     "output_type": "error",
     "traceback": [
      "\u001b[0;31m---------------------------------------------------------------------------\u001b[0m",
      "\u001b[0;31mAttributeError\u001b[0m                            Traceback (most recent call last)",
      "\u001b[0;32m/tmp/ipykernel_1951247/469535812.py\u001b[0m in \u001b[0;36m<module>\u001b[0;34m\u001b[0m\n\u001b[0;32m----> 1\u001b[0;31m \u001b[0mprint\u001b[0m\u001b[0;34m(\u001b[0m\u001b[0minput\u001b[0m\u001b[0;34m.\u001b[0m\u001b[0mshape\u001b[0m\u001b[0;34m)\u001b[0m\u001b[0;34m\u001b[0m\u001b[0;34m\u001b[0m\u001b[0m\n\u001b[0m\u001b[1;32m      2\u001b[0m \u001b[0mensemble_activities\u001b[0m\u001b[0;34m.\u001b[0m\u001b[0mshape\u001b[0m\u001b[0;34m\u001b[0m\u001b[0;34m\u001b[0m\u001b[0m\n",
      "\u001b[0;31mAttributeError\u001b[0m: 'function' object has no attribute 'shape'"
     ]
    }
   ],
   "source": [
    "print(input.shape)\n",
    "ensemble_activities.shape"
   ]
  },
  {
   "cell_type": "code",
   "execution_count": 12,
   "metadata": {},
   "outputs": [
    {
     "name": "stdout",
     "output_type": "stream",
     "text": [
      "X_train shape: (3347, 56)\n",
      "y_train shape: (3347,)\n"
     ]
    },
    {
     "name": "stderr",
     "output_type": "stream",
     "text": [
      "  1%|          | 10/1000 [00:02<04:34,  3.60it/s]"
     ]
    },
    {
     "name": "stdout",
     "output_type": "stream",
     "text": [
      "epoch 10\tloss : 0.32651543617248535\t accuracy : 0.6504065040650405\n",
      "              precision    recall  f1-score   support\n",
      "\n",
      "         0.0       0.94      0.92      0.93       937\n",
      "         1.0       0.63      0.67      0.65       178\n",
      "\n",
      "    accuracy                           0.88      1115\n",
      "   macro avg       0.78      0.80      0.79      1115\n",
      "weighted avg       0.89      0.88      0.89      1115\n",
      "\n"
     ]
    },
    {
     "name": "stderr",
     "output_type": "stream",
     "text": [
      "  2%|▏         | 20/1000 [00:05<04:32,  3.60it/s]"
     ]
    },
    {
     "name": "stdout",
     "output_type": "stream",
     "text": [
      "epoch 20\tloss : 0.28317540884017944\t accuracy : 0.694300518134715\n",
      "              precision    recall  f1-score   support\n",
      "\n",
      "         0.0       0.95      0.92      0.94       937\n",
      "         1.0       0.64      0.75      0.69       178\n",
      "\n",
      "    accuracy                           0.89      1115\n",
      "   macro avg       0.80      0.84      0.82      1115\n",
      "weighted avg       0.90      0.89      0.90      1115\n",
      "\n"
     ]
    },
    {
     "name": "stderr",
     "output_type": "stream",
     "text": [
      "  3%|▎         | 30/1000 [00:08<04:29,  3.60it/s]"
     ]
    },
    {
     "name": "stdout",
     "output_type": "stream",
     "text": [
      "epoch 30\tloss : 0.2537921667098999\t accuracy : 0.7296587926509187\n",
      "              precision    recall  f1-score   support\n",
      "\n",
      "         0.0       0.96      0.93      0.94       937\n",
      "         1.0       0.68      0.78      0.73       178\n",
      "\n",
      "    accuracy                           0.91      1115\n",
      "   macro avg       0.82      0.86      0.84      1115\n",
      "weighted avg       0.91      0.91      0.91      1115\n",
      "\n"
     ]
    },
    {
     "name": "stderr",
     "output_type": "stream",
     "text": [
      "  4%|▍         | 40/1000 [00:11<04:26,  3.60it/s]"
     ]
    },
    {
     "name": "stdout",
     "output_type": "stream",
     "text": [
      "epoch 40\tloss : 0.23639126121997833\t accuracy : 0.7263157894736842\n",
      "              precision    recall  f1-score   support\n",
      "\n",
      "         0.0       0.96      0.93      0.94       937\n",
      "         1.0       0.68      0.78      0.73       178\n",
      "\n",
      "    accuracy                           0.91      1115\n",
      "   macro avg       0.82      0.85      0.84      1115\n",
      "weighted avg       0.91      0.91      0.91      1115\n",
      "\n"
     ]
    },
    {
     "name": "stderr",
     "output_type": "stream",
     "text": [
      "  5%|▌         | 50/1000 [00:13<04:23,  3.60it/s]"
     ]
    },
    {
     "name": "stdout",
     "output_type": "stream",
     "text": [
      "epoch 50\tloss : 0.21512241661548615\t accuracy : 0.7584415584415585\n",
      "              precision    recall  f1-score   support\n",
      "\n",
      "         0.0       0.96      0.93      0.95       937\n",
      "         1.0       0.71      0.82      0.76       178\n",
      "\n",
      "    accuracy                           0.92      1115\n",
      "   macro avg       0.84      0.88      0.85      1115\n",
      "weighted avg       0.92      0.92      0.92      1115\n",
      "\n"
     ]
    },
    {
     "name": "stderr",
     "output_type": "stream",
     "text": [
      "  6%|▌         | 60/1000 [00:16<04:21,  3.60it/s]"
     ]
    },
    {
     "name": "stdout",
     "output_type": "stream",
     "text": [
      "epoch 60\tloss : 0.20531873404979706\t accuracy : 0.730077120822622\n",
      "              precision    recall  f1-score   support\n",
      "\n",
      "         0.0       0.96      0.93      0.94       937\n",
      "         1.0       0.67      0.80      0.73       178\n",
      "\n",
      "    accuracy                           0.91      1115\n",
      "   macro avg       0.82      0.86      0.84      1115\n",
      "weighted avg       0.91      0.91      0.91      1115\n",
      "\n"
     ]
    },
    {
     "name": "stderr",
     "output_type": "stream",
     "text": [
      "  7%|▋         | 70/1000 [00:19<04:18,  3.60it/s]"
     ]
    },
    {
     "name": "stdout",
     "output_type": "stream",
     "text": [
      "epoch 70\tloss : 0.19565366208553314\t accuracy : 0.6873508353221958\n",
      "              precision    recall  f1-score   support\n",
      "\n",
      "         0.0       0.96      0.90      0.93       937\n",
      "         1.0       0.60      0.81      0.69       178\n",
      "\n",
      "    accuracy                           0.88      1115\n",
      "   macro avg       0.78      0.85      0.81      1115\n",
      "weighted avg       0.90      0.88      0.89      1115\n",
      "\n"
     ]
    },
    {
     "name": "stderr",
     "output_type": "stream",
     "text": [
      "  8%|▊         | 80/1000 [00:22<04:15,  3.60it/s]"
     ]
    },
    {
     "name": "stdout",
     "output_type": "stream",
     "text": [
      "epoch 80\tloss : 0.19016246497631073\t accuracy : 0.7117794486215541\n",
      "              precision    recall  f1-score   support\n",
      "\n",
      "         0.0       0.96      0.92      0.94       937\n",
      "         1.0       0.64      0.80      0.71       178\n",
      "\n",
      "    accuracy                           0.90      1115\n",
      "   macro avg       0.80      0.86      0.82      1115\n",
      "weighted avg       0.91      0.90      0.90      1115\n",
      "\n"
     ]
    },
    {
     "name": "stderr",
     "output_type": "stream",
     "text": [
      "  9%|▉         | 90/1000 [00:24<04:13,  3.59it/s]"
     ]
    },
    {
     "name": "stdout",
     "output_type": "stream",
     "text": [
      "epoch 90\tloss : 0.1681666076183319\t accuracy : 0.6696230598669622\n",
      "              precision    recall  f1-score   support\n",
      "\n",
      "         0.0       0.97      0.87      0.92       937\n",
      "         1.0       0.55      0.85      0.67       178\n",
      "\n",
      "    accuracy                           0.87      1115\n",
      "   macro avg       0.76      0.86      0.79      1115\n",
      "weighted avg       0.90      0.87      0.88      1115\n",
      "\n"
     ]
    },
    {
     "name": "stderr",
     "output_type": "stream",
     "text": [
      " 10%|█         | 100/1000 [00:27<04:10,  3.60it/s]"
     ]
    },
    {
     "name": "stdout",
     "output_type": "stream",
     "text": [
      "epoch 100\tloss : 0.17986582219600677\t accuracy : 0.6650943396226415\n",
      "              precision    recall  f1-score   support\n",
      "\n",
      "         0.0       0.96      0.89      0.92       937\n",
      "         1.0       0.57      0.79      0.67       178\n",
      "\n",
      "    accuracy                           0.87      1115\n",
      "   macro avg       0.77      0.84      0.79      1115\n",
      "weighted avg       0.90      0.87      0.88      1115\n",
      "\n"
     ]
    },
    {
     "name": "stderr",
     "output_type": "stream",
     "text": [
      " 11%|█         | 110/1000 [00:30<04:07,  3.59it/s]"
     ]
    },
    {
     "name": "stdout",
     "output_type": "stream",
     "text": [
      "epoch 110\tloss : 0.16780371963977814\t accuracy : 0.7762803234501348\n",
      "              precision    recall  f1-score   support\n",
      "\n",
      "         0.0       0.96      0.95      0.96       937\n",
      "         1.0       0.75      0.81      0.78       178\n",
      "\n",
      "    accuracy                           0.93      1115\n",
      "   macro avg       0.85      0.88      0.87      1115\n",
      "weighted avg       0.93      0.93      0.93      1115\n",
      "\n"
     ]
    },
    {
     "name": "stderr",
     "output_type": "stream",
     "text": [
      " 12%|█▏        | 120/1000 [00:33<04:05,  3.59it/s]"
     ]
    },
    {
     "name": "stdout",
     "output_type": "stream",
     "text": [
      "epoch 120\tloss : 0.15048253536224365\t accuracy : 0.7422680412371134\n",
      "              precision    recall  f1-score   support\n",
      "\n",
      "         0.0       0.96      0.93      0.95       937\n",
      "         1.0       0.69      0.81      0.74       178\n",
      "\n",
      "    accuracy                           0.91      1115\n",
      "   macro avg       0.82      0.87      0.84      1115\n",
      "weighted avg       0.92      0.91      0.91      1115\n",
      "\n"
     ]
    },
    {
     "name": "stderr",
     "output_type": "stream",
     "text": [
      " 13%|█▎        | 130/1000 [00:36<04:02,  3.58it/s]"
     ]
    },
    {
     "name": "stdout",
     "output_type": "stream",
     "text": [
      "epoch 130\tloss : 0.23275244235992432\t accuracy : 0.6156862745098038\n",
      "              precision    recall  f1-score   support\n",
      "\n",
      "         0.0       0.97      0.81      0.89       937\n",
      "         1.0       0.47      0.88      0.62       178\n",
      "\n",
      "    accuracy                           0.82      1115\n",
      "   macro avg       0.72      0.85      0.75      1115\n",
      "weighted avg       0.89      0.82      0.84      1115\n",
      "\n"
     ]
    },
    {
     "name": "stderr",
     "output_type": "stream",
     "text": [
      " 14%|█▍        | 140/1000 [00:38<04:00,  3.58it/s]"
     ]
    },
    {
     "name": "stdout",
     "output_type": "stream",
     "text": [
      "epoch 140\tloss : 0.19344428181648254\t accuracy : 0.6788511749347259\n",
      "              precision    recall  f1-score   support\n",
      "\n",
      "         0.0       0.95      0.92      0.93       937\n",
      "         1.0       0.63      0.73      0.68       178\n",
      "\n",
      "    accuracy                           0.89      1115\n",
      "   macro avg       0.79      0.83      0.81      1115\n",
      "weighted avg       0.90      0.89      0.89      1115\n",
      "\n"
     ]
    },
    {
     "name": "stderr",
     "output_type": "stream",
     "text": [
      " 15%|█▌        | 150/1000 [00:41<03:57,  3.58it/s]"
     ]
    },
    {
     "name": "stdout",
     "output_type": "stream",
     "text": [
      "epoch 150\tloss : 0.17428216338157654\t accuracy : 0.7611111111111112\n",
      "              precision    recall  f1-score   support\n",
      "\n",
      "         0.0       0.96      0.95      0.95       937\n",
      "         1.0       0.75      0.77      0.76       178\n",
      "\n",
      "    accuracy                           0.92      1115\n",
      "   macro avg       0.85      0.86      0.86      1115\n",
      "weighted avg       0.92      0.92      0.92      1115\n",
      "\n"
     ]
    },
    {
     "name": "stderr",
     "output_type": "stream",
     "text": [
      " 16%|█▌        | 160/1000 [00:44<03:54,  3.58it/s]"
     ]
    },
    {
     "name": "stdout",
     "output_type": "stream",
     "text": [
      "epoch 160\tloss : 0.15807783603668213\t accuracy : 0.680952380952381\n",
      "              precision    recall  f1-score   support\n",
      "\n",
      "         0.0       0.96      0.89      0.93       937\n",
      "         1.0       0.59      0.80      0.68       178\n",
      "\n",
      "    accuracy                           0.88      1115\n",
      "   macro avg       0.78      0.85      0.80      1115\n",
      "weighted avg       0.90      0.88      0.89      1115\n",
      "\n"
     ]
    },
    {
     "name": "stderr",
     "output_type": "stream",
     "text": [
      " 17%|█▋        | 170/1000 [00:47<03:51,  3.58it/s]"
     ]
    },
    {
     "name": "stdout",
     "output_type": "stream",
     "text": [
      "epoch 170\tloss : 0.14421698451042175\t accuracy : 0.6561797752808989\n",
      "              precision    recall  f1-score   support\n",
      "\n",
      "         0.0       0.96      0.87      0.91       937\n",
      "         1.0       0.55      0.82      0.66       178\n",
      "\n",
      "    accuracy                           0.86      1115\n",
      "   macro avg       0.75      0.85      0.79      1115\n",
      "weighted avg       0.90      0.86      0.87      1115\n",
      "\n"
     ]
    },
    {
     "name": "stderr",
     "output_type": "stream",
     "text": [
      " 18%|█▊        | 180/1000 [00:50<03:48,  3.58it/s]"
     ]
    },
    {
     "name": "stdout",
     "output_type": "stream",
     "text": [
      "epoch 180\tloss : 0.13152320683002472\t accuracy : 0.6341463414634146\n",
      "              precision    recall  f1-score   support\n",
      "\n",
      "         0.0       0.96      0.86      0.91       937\n",
      "         1.0       0.52      0.80      0.63       178\n",
      "\n",
      "    accuracy                           0.85      1115\n",
      "   macro avg       0.74      0.83      0.77      1115\n",
      "weighted avg       0.89      0.85      0.86      1115\n",
      "\n"
     ]
    },
    {
     "name": "stderr",
     "output_type": "stream",
     "text": [
      " 19%|█▉        | 190/1000 [00:52<03:46,  3.58it/s]"
     ]
    },
    {
     "name": "stdout",
     "output_type": "stream",
     "text": [
      "epoch 190\tloss : 0.1478080153465271\t accuracy : 0.6181015452538632\n",
      "              precision    recall  f1-score   support\n",
      "\n",
      "         0.0       0.95      0.86      0.90       937\n",
      "         1.0       0.51      0.79      0.62       178\n",
      "\n",
      "    accuracy                           0.84      1115\n",
      "   macro avg       0.73      0.82      0.76      1115\n",
      "weighted avg       0.88      0.84      0.86      1115\n",
      "\n"
     ]
    },
    {
     "name": "stderr",
     "output_type": "stream",
     "text": [
      " 20%|██        | 200/1000 [00:55<03:43,  3.59it/s]"
     ]
    },
    {
     "name": "stdout",
     "output_type": "stream",
     "text": [
      "epoch 200\tloss : 0.13288845121860504\t accuracy : 0.6252676659528908\n",
      "              precision    recall  f1-score   support\n",
      "\n",
      "         0.0       0.96      0.85      0.90       937\n",
      "         1.0       0.51      0.82      0.63       178\n",
      "\n",
      "    accuracy                           0.84      1115\n",
      "   macro avg       0.73      0.83      0.76      1115\n",
      "weighted avg       0.89      0.84      0.86      1115\n",
      "\n"
     ]
    },
    {
     "name": "stderr",
     "output_type": "stream",
     "text": [
      " 21%|██        | 210/1000 [00:58<03:40,  3.59it/s]"
     ]
    },
    {
     "name": "stdout",
     "output_type": "stream",
     "text": [
      "epoch 210\tloss : 0.11720936745405197\t accuracy : 0.6285714285714287\n",
      "              precision    recall  f1-score   support\n",
      "\n",
      "         0.0       0.96      0.86      0.90       937\n",
      "         1.0       0.52      0.80      0.63       178\n",
      "\n",
      "    accuracy                           0.85      1115\n",
      "   macro avg       0.74      0.83      0.77      1115\n",
      "weighted avg       0.89      0.85      0.86      1115\n",
      "\n"
     ]
    },
    {
     "name": "stderr",
     "output_type": "stream",
     "text": [
      " 22%|██▏       | 220/1000 [01:01<03:38,  3.58it/s]"
     ]
    },
    {
     "name": "stdout",
     "output_type": "stream",
     "text": [
      "epoch 220\tloss : 0.104091115295887\t accuracy : 0.6410835214446953\n",
      "              precision    recall  f1-score   support\n",
      "\n",
      "         0.0       0.96      0.87      0.91       937\n",
      "         1.0       0.54      0.80      0.64       178\n",
      "\n",
      "    accuracy                           0.86      1115\n",
      "   macro avg       0.75      0.83      0.78      1115\n",
      "weighted avg       0.89      0.86      0.87      1115\n",
      "\n"
     ]
    },
    {
     "name": "stderr",
     "output_type": "stream",
     "text": [
      " 23%|██▎       | 230/1000 [01:03<03:34,  3.59it/s]"
     ]
    },
    {
     "name": "stdout",
     "output_type": "stream",
     "text": [
      "epoch 230\tloss : 0.09804610908031464\t accuracy : 0.6236559139784945\n",
      "              precision    recall  f1-score   support\n",
      "\n",
      "         0.0       0.96      0.85      0.90       937\n",
      "         1.0       0.51      0.81      0.62       178\n",
      "\n",
      "    accuracy                           0.84      1115\n",
      "   macro avg       0.73      0.83      0.76      1115\n",
      "weighted avg       0.89      0.84      0.86      1115\n",
      "\n"
     ]
    },
    {
     "name": "stderr",
     "output_type": "stream",
     "text": [
      " 24%|██▍       | 240/1000 [01:06<03:32,  3.58it/s]"
     ]
    },
    {
     "name": "stdout",
     "output_type": "stream",
     "text": [
      "epoch 240\tloss : 0.11393619328737259\t accuracy : 0.623608017817372\n",
      "              precision    recall  f1-score   support\n",
      "\n",
      "         0.0       0.95      0.86      0.91       937\n",
      "         1.0       0.52      0.79      0.62       178\n",
      "\n",
      "    accuracy                           0.85      1115\n",
      "   macro avg       0.74      0.82      0.76      1115\n",
      "weighted avg       0.88      0.85      0.86      1115\n",
      "\n"
     ]
    },
    {
     "name": "stderr",
     "output_type": "stream",
     "text": [
      " 25%|██▌       | 250/1000 [01:09<03:29,  3.58it/s]"
     ]
    },
    {
     "name": "stdout",
     "output_type": "stream",
     "text": [
      "epoch 250\tloss : 0.09632671624422073\t accuracy : 0.6322869955156951\n",
      "              precision    recall  f1-score   support\n",
      "\n",
      "         0.0       0.96      0.86      0.91       937\n",
      "         1.0       0.53      0.79      0.63       178\n",
      "\n",
      "    accuracy                           0.85      1115\n",
      "   macro avg       0.74      0.83      0.77      1115\n",
      "weighted avg       0.89      0.85      0.86      1115\n",
      "\n"
     ]
    },
    {
     "name": "stderr",
     "output_type": "stream",
     "text": [
      " 26%|██▌       | 260/1000 [01:12<03:26,  3.58it/s]"
     ]
    },
    {
     "name": "stdout",
     "output_type": "stream",
     "text": [
      "epoch 260\tloss : 0.08026690781116486\t accuracy : 0.6299559471365638\n",
      "              precision    recall  f1-score   support\n",
      "\n",
      "         0.0       0.96      0.86      0.91       937\n",
      "         1.0       0.52      0.80      0.63       178\n",
      "\n",
      "    accuracy                           0.85      1115\n",
      "   macro avg       0.74      0.83      0.77      1115\n",
      "weighted avg       0.89      0.85      0.86      1115\n",
      "\n"
     ]
    },
    {
     "name": "stderr",
     "output_type": "stream",
     "text": [
      " 27%|██▋       | 270/1000 [01:15<03:23,  3.58it/s]"
     ]
    },
    {
     "name": "stdout",
     "output_type": "stream",
     "text": [
      "epoch 270\tloss : 0.06650646775960922\t accuracy : 0.6181015452538632\n",
      "              precision    recall  f1-score   support\n",
      "\n",
      "         0.0       0.95      0.86      0.90       937\n",
      "         1.0       0.51      0.79      0.62       178\n",
      "\n",
      "    accuracy                           0.84      1115\n",
      "   macro avg       0.73      0.82      0.76      1115\n",
      "weighted avg       0.88      0.84      0.86      1115\n",
      "\n"
     ]
    },
    {
     "name": "stderr",
     "output_type": "stream",
     "text": [
      " 28%|██▊       | 280/1000 [01:17<03:20,  3.59it/s]"
     ]
    },
    {
     "name": "stdout",
     "output_type": "stream",
     "text": [
      "epoch 280\tloss : 0.22025522589683533\t accuracy : 0.6814814814814815\n",
      "              precision    recall  f1-score   support\n",
      "\n",
      "         0.0       0.95      0.91      0.93       937\n",
      "         1.0       0.61      0.78      0.68       178\n",
      "\n",
      "    accuracy                           0.88      1115\n",
      "   macro avg       0.78      0.84      0.81      1115\n",
      "weighted avg       0.90      0.88      0.89      1115\n",
      "\n"
     ]
    },
    {
     "name": "stderr",
     "output_type": "stream",
     "text": [
      " 29%|██▉       | 290/1000 [01:20<03:18,  3.58it/s]"
     ]
    },
    {
     "name": "stdout",
     "output_type": "stream",
     "text": [
      "epoch 290\tloss : 0.16341768205165863\t accuracy : 0.773841961852861\n",
      "              precision    recall  f1-score   support\n",
      "\n",
      "         0.0       0.96      0.95      0.96       937\n",
      "         1.0       0.75      0.80      0.77       178\n",
      "\n",
      "    accuracy                           0.93      1115\n",
      "   macro avg       0.86      0.87      0.86      1115\n",
      "weighted avg       0.93      0.93      0.93      1115\n",
      "\n"
     ]
    },
    {
     "name": "stderr",
     "output_type": "stream",
     "text": [
      " 30%|███       | 300/1000 [01:23<03:15,  3.58it/s]"
     ]
    },
    {
     "name": "stdout",
     "output_type": "stream",
     "text": [
      "epoch 300\tloss : 0.14217552542686462\t accuracy : 0.7651715039577837\n",
      "              precision    recall  f1-score   support\n",
      "\n",
      "         0.0       0.96      0.94      0.95       937\n",
      "         1.0       0.72      0.81      0.77       178\n",
      "\n",
      "    accuracy                           0.92      1115\n",
      "   macro avg       0.84      0.88      0.86      1115\n",
      "weighted avg       0.93      0.92      0.92      1115\n",
      "\n"
     ]
    },
    {
     "name": "stderr",
     "output_type": "stream",
     "text": [
      " 31%|███       | 310/1000 [01:26<03:12,  3.59it/s]"
     ]
    },
    {
     "name": "stdout",
     "output_type": "stream",
     "text": [
      "epoch 310\tloss : 0.12300512194633484\t accuracy : 0.776595744680851\n",
      "              precision    recall  f1-score   support\n",
      "\n",
      "         0.0       0.97      0.94      0.95       937\n",
      "         1.0       0.74      0.82      0.78       178\n",
      "\n",
      "    accuracy                           0.92      1115\n",
      "   macro avg       0.85      0.88      0.87      1115\n",
      "weighted avg       0.93      0.92      0.93      1115\n",
      "\n"
     ]
    },
    {
     "name": "stderr",
     "output_type": "stream",
     "text": [
      " 32%|███▏      | 320/1000 [01:29<03:09,  3.58it/s]"
     ]
    },
    {
     "name": "stdout",
     "output_type": "stream",
     "text": [
      "epoch 320\tloss : 0.1034957617521286\t accuracy : 0.768831168831169\n",
      "              precision    recall  f1-score   support\n",
      "\n",
      "         0.0       0.97      0.94      0.95       937\n",
      "         1.0       0.71      0.83      0.77       178\n",
      "\n",
      "    accuracy                           0.92      1115\n",
      "   macro avg       0.84      0.88      0.86      1115\n",
      "weighted avg       0.93      0.92      0.92      1115\n",
      "\n"
     ]
    },
    {
     "name": "stderr",
     "output_type": "stream",
     "text": [
      " 33%|███▎      | 330/1000 [01:31<03:07,  3.58it/s]"
     ]
    },
    {
     "name": "stdout",
     "output_type": "stream",
     "text": [
      "epoch 330\tloss : 0.0915493369102478\t accuracy : 0.776595744680851\n",
      "              precision    recall  f1-score   support\n",
      "\n",
      "         0.0       0.97      0.94      0.95       937\n",
      "         1.0       0.74      0.82      0.78       178\n",
      "\n",
      "    accuracy                           0.92      1115\n",
      "   macro avg       0.85      0.88      0.87      1115\n",
      "weighted avg       0.93      0.92      0.93      1115\n",
      "\n"
     ]
    },
    {
     "name": "stderr",
     "output_type": "stream",
     "text": [
      " 34%|███▍      | 340/1000 [01:34<03:04,  3.59it/s]"
     ]
    },
    {
     "name": "stdout",
     "output_type": "stream",
     "text": [
      "epoch 340\tloss : 0.08780454099178314\t accuracy : 0.7447916666666667\n",
      "              precision    recall  f1-score   support\n",
      "\n",
      "         0.0       0.96      0.93      0.95       937\n",
      "         1.0       0.69      0.80      0.74       178\n",
      "\n",
      "    accuracy                           0.91      1115\n",
      "   macro avg       0.83      0.87      0.85      1115\n",
      "weighted avg       0.92      0.91      0.91      1115\n",
      "\n"
     ]
    },
    {
     "name": "stderr",
     "output_type": "stream",
     "text": [
      " 35%|███▌      | 350/1000 [01:37<03:01,  3.58it/s]"
     ]
    },
    {
     "name": "stdout",
     "output_type": "stream",
     "text": [
      "epoch 350\tloss : 0.07232514023780823\t accuracy : 0.7525773195876287\n",
      "              precision    recall  f1-score   support\n",
      "\n",
      "         0.0       0.96      0.93      0.95       937\n",
      "         1.0       0.70      0.82      0.75       178\n",
      "\n",
      "    accuracy                           0.91      1115\n",
      "   macro avg       0.83      0.88      0.85      1115\n",
      "weighted avg       0.92      0.91      0.92      1115\n",
      "\n"
     ]
    },
    {
     "name": "stderr",
     "output_type": "stream",
     "text": [
      " 36%|███▌      | 360/1000 [01:40<02:58,  3.58it/s]"
     ]
    },
    {
     "name": "stdout",
     "output_type": "stream",
     "text": [
      "epoch 360\tloss : 0.05581659823656082\t accuracy : 0.7435897435897436\n",
      "              precision    recall  f1-score   support\n",
      "\n",
      "         0.0       0.96      0.93      0.95       937\n",
      "         1.0       0.68      0.81      0.74       178\n",
      "\n",
      "    accuracy                           0.91      1115\n",
      "   macro avg       0.82      0.87      0.84      1115\n",
      "weighted avg       0.92      0.91      0.91      1115\n",
      "\n"
     ]
    },
    {
     "name": "stderr",
     "output_type": "stream",
     "text": [
      " 37%|███▋      | 370/1000 [01:43<02:55,  3.59it/s]"
     ]
    },
    {
     "name": "stdout",
     "output_type": "stream",
     "text": [
      "epoch 370\tloss : 0.045885924249887466\t accuracy : 0.7218045112781954\n",
      "              precision    recall  f1-score   support\n",
      "\n",
      "         0.0       0.96      0.92      0.94       937\n",
      "         1.0       0.65      0.81      0.72       178\n",
      "\n",
      "    accuracy                           0.90      1115\n",
      "   macro avg       0.81      0.86      0.83      1115\n",
      "weighted avg       0.91      0.90      0.90      1115\n",
      "\n"
     ]
    },
    {
     "name": "stderr",
     "output_type": "stream",
     "text": [
      " 38%|███▊      | 380/1000 [01:45<02:53,  3.58it/s]"
     ]
    },
    {
     "name": "stdout",
     "output_type": "stream",
     "text": [
      "epoch 380\tloss : 0.0880722776055336\t accuracy : 0.7052896725440806\n",
      "              precision    recall  f1-score   support\n",
      "\n",
      "         0.0       0.96      0.92      0.94       937\n",
      "         1.0       0.64      0.79      0.71       178\n",
      "\n",
      "    accuracy                           0.90      1115\n",
      "   macro avg       0.80      0.85      0.82      1115\n",
      "weighted avg       0.91      0.90      0.90      1115\n",
      "\n"
     ]
    },
    {
     "name": "stderr",
     "output_type": "stream",
     "text": [
      " 39%|███▉      | 390/1000 [01:48<02:50,  3.58it/s]"
     ]
    },
    {
     "name": "stdout",
     "output_type": "stream",
     "text": [
      "epoch 390\tloss : 0.04845674708485603\t accuracy : 0.7254408060453399\n",
      "              precision    recall  f1-score   support\n",
      "\n",
      "         0.0       0.96      0.92      0.94       937\n",
      "         1.0       0.66      0.81      0.73       178\n",
      "\n",
      "    accuracy                           0.90      1115\n",
      "   macro avg       0.81      0.86      0.83      1115\n",
      "weighted avg       0.91      0.90      0.91      1115\n",
      "\n"
     ]
    },
    {
     "name": "stderr",
     "output_type": "stream",
     "text": [
      " 40%|████      | 400/1000 [01:51<02:47,  3.58it/s]"
     ]
    },
    {
     "name": "stdout",
     "output_type": "stream",
     "text": [
      "epoch 400\tloss : 0.03651002049446106\t accuracy : 0.7229551451187336\n",
      "              precision    recall  f1-score   support\n",
      "\n",
      "         0.0       0.96      0.93      0.94       937\n",
      "         1.0       0.68      0.77      0.72       178\n",
      "\n",
      "    accuracy                           0.91      1115\n",
      "   macro avg       0.82      0.85      0.83      1115\n",
      "weighted avg       0.91      0.91      0.91      1115\n",
      "\n"
     ]
    },
    {
     "name": "stderr",
     "output_type": "stream",
     "text": [
      " 41%|████      | 410/1000 [01:54<02:44,  3.58it/s]"
     ]
    },
    {
     "name": "stdout",
     "output_type": "stream",
     "text": [
      "epoch 410\tloss : 0.028506150469183922\t accuracy : 0.7202072538860103\n",
      "              precision    recall  f1-score   support\n",
      "\n",
      "         0.0       0.96      0.93      0.94       937\n",
      "         1.0       0.67      0.78      0.72       178\n",
      "\n",
      "    accuracy                           0.90      1115\n",
      "   macro avg       0.81      0.85      0.83      1115\n",
      "weighted avg       0.91      0.90      0.91      1115\n",
      "\n"
     ]
    },
    {
     "name": "stderr",
     "output_type": "stream",
     "text": [
      " 42%|████▏     | 420/1000 [01:56<02:41,  3.59it/s]"
     ]
    },
    {
     "name": "stdout",
     "output_type": "stream",
     "text": [
      "epoch 420\tloss : 0.022163378074765205\t accuracy : 0.7139107611548555\n",
      "              precision    recall  f1-score   support\n",
      "\n",
      "         0.0       0.95      0.93      0.94       937\n",
      "         1.0       0.67      0.76      0.71       178\n",
      "\n",
      "    accuracy                           0.90      1115\n",
      "   macro avg       0.81      0.85      0.83      1115\n",
      "weighted avg       0.91      0.90      0.90      1115\n",
      "\n"
     ]
    },
    {
     "name": "stderr",
     "output_type": "stream",
     "text": [
      " 43%|████▎     | 430/1000 [01:59<02:39,  3.57it/s]"
     ]
    },
    {
     "name": "stdout",
     "output_type": "stream",
     "text": [
      "epoch 430\tloss : 0.017104530707001686\t accuracy : 0.7086614173228346\n",
      "              precision    recall  f1-score   support\n",
      "\n",
      "         0.0       0.95      0.93      0.94       937\n",
      "         1.0       0.67      0.76      0.71       178\n",
      "\n",
      "    accuracy                           0.90      1115\n",
      "   macro avg       0.81      0.84      0.82      1115\n",
      "weighted avg       0.91      0.90      0.90      1115\n",
      "\n"
     ]
    },
    {
     "name": "stderr",
     "output_type": "stream",
     "text": [
      " 44%|████▍     | 440/1000 [02:02<02:37,  3.57it/s]"
     ]
    },
    {
     "name": "stdout",
     "output_type": "stream",
     "text": [
      "epoch 440\tloss : 0.013060769066214561\t accuracy : 0.7191601049868767\n",
      "              precision    recall  f1-score   support\n",
      "\n",
      "         0.0       0.96      0.93      0.94       937\n",
      "         1.0       0.67      0.77      0.72       178\n",
      "\n",
      "    accuracy                           0.90      1115\n",
      "   macro avg       0.81      0.85      0.83      1115\n",
      "weighted avg       0.91      0.90      0.91      1115\n",
      "\n"
     ]
    },
    {
     "name": "stderr",
     "output_type": "stream",
     "text": [
      " 45%|████▌     | 450/1000 [02:05<02:34,  3.57it/s]"
     ]
    },
    {
     "name": "stdout",
     "output_type": "stream",
     "text": [
      "epoch 450\tloss : 0.009796222671866417\t accuracy : 0.7206266318537858\n",
      "              precision    recall  f1-score   support\n",
      "\n",
      "         0.0       0.96      0.93      0.94       937\n",
      "         1.0       0.67      0.78      0.72       178\n",
      "\n",
      "    accuracy                           0.90      1115\n",
      "   macro avg       0.81      0.85      0.83      1115\n",
      "weighted avg       0.91      0.90      0.91      1115\n",
      "\n"
     ]
    },
    {
     "name": "stderr",
     "output_type": "stream",
     "text": [
      " 46%|████▌     | 460/1000 [02:08<02:31,  3.57it/s]"
     ]
    },
    {
     "name": "stdout",
     "output_type": "stream",
     "text": [
      "epoch 460\tloss : 0.007312969770282507\t accuracy : 0.7098445595854922\n",
      "              precision    recall  f1-score   support\n",
      "\n",
      "         0.0       0.95      0.92      0.94       937\n",
      "         1.0       0.66      0.77      0.71       178\n",
      "\n",
      "    accuracy                           0.90      1115\n",
      "   macro avg       0.81      0.85      0.82      1115\n",
      "weighted avg       0.91      0.90      0.90      1115\n",
      "\n"
     ]
    },
    {
     "name": "stderr",
     "output_type": "stream",
     "text": [
      " 47%|████▋     | 470/1000 [02:10<02:28,  3.56it/s]"
     ]
    },
    {
     "name": "stdout",
     "output_type": "stream",
     "text": [
      "epoch 470\tloss : 0.005554351024329662\t accuracy : 0.7131782945736435\n",
      "              precision    recall  f1-score   support\n",
      "\n",
      "         0.0       0.96      0.92      0.94       937\n",
      "         1.0       0.66      0.78      0.71       178\n",
      "\n",
      "    accuracy                           0.90      1115\n",
      "   macro avg       0.81      0.85      0.83      1115\n",
      "weighted avg       0.91      0.90      0.90      1115\n",
      "\n"
     ]
    },
    {
     "name": "stderr",
     "output_type": "stream",
     "text": [
      " 48%|████▊     | 480/1000 [02:13<02:25,  3.57it/s]"
     ]
    },
    {
     "name": "stdout",
     "output_type": "stream",
     "text": [
      "epoch 480\tloss : 0.00435628229752183\t accuracy : 0.7146529562982005\n",
      "              precision    recall  f1-score   support\n",
      "\n",
      "         0.0       0.96      0.92      0.94       937\n",
      "         1.0       0.66      0.78      0.71       178\n",
      "\n",
      "    accuracy                           0.90      1115\n",
      "   macro avg       0.81      0.85      0.83      1115\n",
      "weighted avg       0.91      0.90      0.90      1115\n",
      "\n"
     ]
    },
    {
     "name": "stderr",
     "output_type": "stream",
     "text": [
      " 49%|████▉     | 490/1000 [02:16<02:22,  3.57it/s]"
     ]
    },
    {
     "name": "stdout",
     "output_type": "stream",
     "text": [
      "epoch 490\tloss : 0.0035260559525340796\t accuracy : 0.7150259067357513\n",
      "              precision    recall  f1-score   support\n",
      "\n",
      "         0.0       0.96      0.93      0.94       937\n",
      "         1.0       0.66      0.78      0.72       178\n",
      "\n",
      "    accuracy                           0.90      1115\n",
      "   macro avg       0.81      0.85      0.83      1115\n",
      "weighted avg       0.91      0.90      0.90      1115\n",
      "\n"
     ]
    },
    {
     "name": "stderr",
     "output_type": "stream",
     "text": [
      " 50%|█████     | 500/1000 [02:19<02:20,  3.57it/s]"
     ]
    },
    {
     "name": "stdout",
     "output_type": "stream",
     "text": [
      "epoch 500\tloss : 0.002933961572125554\t accuracy : 0.7135416666666665\n",
      "              precision    recall  f1-score   support\n",
      "\n",
      "         0.0       0.95      0.93      0.94       937\n",
      "         1.0       0.67      0.77      0.71       178\n",
      "\n",
      "    accuracy                           0.90      1115\n",
      "   macro avg       0.81      0.85      0.83      1115\n",
      "weighted avg       0.91      0.90      0.90      1115\n",
      "\n"
     ]
    },
    {
     "name": "stderr",
     "output_type": "stream",
     "text": [
      " 51%|█████     | 510/1000 [02:22<02:17,  3.56it/s]"
     ]
    },
    {
     "name": "stdout",
     "output_type": "stream",
     "text": [
      "epoch 510\tloss : 0.002500047441571951\t accuracy : 0.7135416666666665\n",
      "              precision    recall  f1-score   support\n",
      "\n",
      "         0.0       0.95      0.93      0.94       937\n",
      "         1.0       0.67      0.77      0.71       178\n",
      "\n",
      "    accuracy                           0.90      1115\n",
      "   macro avg       0.81      0.85      0.83      1115\n",
      "weighted avg       0.91      0.90      0.90      1115\n",
      "\n"
     ]
    },
    {
     "name": "stderr",
     "output_type": "stream",
     "text": [
      " 52%|█████▏    | 520/1000 [02:24<02:14,  3.57it/s]"
     ]
    },
    {
     "name": "stdout",
     "output_type": "stream",
     "text": [
      "epoch 520\tloss : 0.002174267778173089\t accuracy : 0.7086614173228346\n",
      "              precision    recall  f1-score   support\n",
      "\n",
      "         0.0       0.95      0.93      0.94       937\n",
      "         1.0       0.67      0.76      0.71       178\n",
      "\n",
      "    accuracy                           0.90      1115\n",
      "   macro avg       0.81      0.84      0.82      1115\n",
      "weighted avg       0.91      0.90      0.90      1115\n",
      "\n"
     ]
    },
    {
     "name": "stderr",
     "output_type": "stream",
     "text": [
      " 53%|█████▎    | 530/1000 [02:27<02:11,  3.57it/s]"
     ]
    },
    {
     "name": "stdout",
     "output_type": "stream",
     "text": [
      "epoch 530\tloss : 0.0019234016072005033\t accuracy : 0.710182767624021\n",
      "              precision    recall  f1-score   support\n",
      "\n",
      "         0.0       0.95      0.93      0.94       937\n",
      "         1.0       0.66      0.76      0.71       178\n",
      "\n",
      "    accuracy                           0.90      1115\n",
      "   macro avg       0.81      0.85      0.83      1115\n",
      "weighted avg       0.91      0.90      0.90      1115\n",
      "\n"
     ]
    },
    {
     "name": "stderr",
     "output_type": "stream",
     "text": [
      " 54%|█████▍    | 540/1000 [02:30<02:09,  3.56it/s]"
     ]
    },
    {
     "name": "stdout",
     "output_type": "stream",
     "text": [
      "epoch 540\tloss : 0.0017266771756112576\t accuracy : 0.710182767624021\n",
      "              precision    recall  f1-score   support\n",
      "\n",
      "         0.0       0.95      0.93      0.94       937\n",
      "         1.0       0.66      0.76      0.71       178\n",
      "\n",
      "    accuracy                           0.90      1115\n",
      "   macro avg       0.81      0.85      0.83      1115\n",
      "weighted avg       0.91      0.90      0.90      1115\n",
      "\n"
     ]
    },
    {
     "name": "stderr",
     "output_type": "stream",
     "text": [
      " 55%|█████▌    | 550/1000 [02:33<02:06,  3.56it/s]"
     ]
    },
    {
     "name": "stdout",
     "output_type": "stream",
     "text": [
      "epoch 550\tloss : 0.001568502513691783\t accuracy : 0.7064935064935065\n",
      "              precision    recall  f1-score   support\n",
      "\n",
      "         0.0       0.95      0.92      0.94       937\n",
      "         1.0       0.66      0.76      0.71       178\n",
      "\n",
      "    accuracy                           0.90      1115\n",
      "   macro avg       0.81      0.84      0.82      1115\n",
      "weighted avg       0.91      0.90      0.90      1115\n",
      "\n"
     ]
    },
    {
     "name": "stderr",
     "output_type": "stream",
     "text": [
      " 56%|█████▌    | 560/1000 [02:36<02:03,  3.56it/s]"
     ]
    },
    {
     "name": "stdout",
     "output_type": "stream",
     "text": [
      "epoch 560\tloss : 0.001439801068045199\t accuracy : 0.7064935064935065\n",
      "              precision    recall  f1-score   support\n",
      "\n",
      "         0.0       0.95      0.92      0.94       937\n",
      "         1.0       0.66      0.76      0.71       178\n",
      "\n",
      "    accuracy                           0.90      1115\n",
      "   macro avg       0.81      0.84      0.82      1115\n",
      "weighted avg       0.91      0.90      0.90      1115\n",
      "\n"
     ]
    },
    {
     "name": "stderr",
     "output_type": "stream",
     "text": [
      " 57%|█████▋    | 570/1000 [02:38<02:00,  3.56it/s]"
     ]
    },
    {
     "name": "stdout",
     "output_type": "stream",
     "text": [
      "epoch 570\tloss : 0.0013331834925338626\t accuracy : 0.7046632124352331\n",
      "              precision    recall  f1-score   support\n",
      "\n",
      "         0.0       0.95      0.92      0.94       937\n",
      "         1.0       0.65      0.76      0.70       178\n",
      "\n",
      "    accuracy                           0.90      1115\n",
      "   macro avg       0.80      0.84      0.82      1115\n",
      "weighted avg       0.91      0.90      0.90      1115\n",
      "\n"
     ]
    },
    {
     "name": "stderr",
     "output_type": "stream",
     "text": [
      " 58%|█████▊    | 580/1000 [02:41<01:57,  3.57it/s]"
     ]
    },
    {
     "name": "stdout",
     "output_type": "stream",
     "text": [
      "epoch 580\tloss : 0.0012434987584128976\t accuracy : 0.7046632124352331\n",
      "              precision    recall  f1-score   support\n",
      "\n",
      "         0.0       0.95      0.92      0.94       937\n",
      "         1.0       0.65      0.76      0.70       178\n",
      "\n",
      "    accuracy                           0.90      1115\n",
      "   macro avg       0.80      0.84      0.82      1115\n",
      "weighted avg       0.91      0.90      0.90      1115\n",
      "\n"
     ]
    },
    {
     "name": "stderr",
     "output_type": "stream",
     "text": [
      " 59%|█████▉    | 590/1000 [02:44<01:55,  3.56it/s]"
     ]
    },
    {
     "name": "stdout",
     "output_type": "stream",
     "text": [
      "epoch 590\tloss : 0.0011674652341753244\t accuracy : 0.7083333333333334\n",
      "              precision    recall  f1-score   support\n",
      "\n",
      "         0.0       0.95      0.93      0.94       937\n",
      "         1.0       0.66      0.76      0.71       178\n",
      "\n",
      "    accuracy                           0.90      1115\n",
      "   macro avg       0.81      0.84      0.82      1115\n",
      "weighted avg       0.91      0.90      0.90      1115\n",
      "\n"
     ]
    },
    {
     "name": "stderr",
     "output_type": "stream",
     "text": [
      " 60%|██████    | 600/1000 [02:47<01:52,  3.57it/s]"
     ]
    },
    {
     "name": "stdout",
     "output_type": "stream",
     "text": [
      "epoch 600\tloss : 0.0011021228274330497\t accuracy : 0.710182767624021\n",
      "              precision    recall  f1-score   support\n",
      "\n",
      "         0.0       0.95      0.93      0.94       937\n",
      "         1.0       0.66      0.76      0.71       178\n",
      "\n",
      "    accuracy                           0.90      1115\n",
      "   macro avg       0.81      0.85      0.83      1115\n",
      "weighted avg       0.91      0.90      0.90      1115\n",
      "\n"
     ]
    },
    {
     "name": "stderr",
     "output_type": "stream",
     "text": [
      " 61%|██████    | 610/1000 [02:50<01:49,  3.56it/s]"
     ]
    },
    {
     "name": "stdout",
     "output_type": "stream",
     "text": [
      "epoch 610\tloss : 0.001045017852447927\t accuracy : 0.710182767624021\n",
      "              precision    recall  f1-score   support\n",
      "\n",
      "         0.0       0.95      0.93      0.94       937\n",
      "         1.0       0.66      0.76      0.71       178\n",
      "\n",
      "    accuracy                           0.90      1115\n",
      "   macro avg       0.81      0.85      0.83      1115\n",
      "weighted avg       0.91      0.90      0.90      1115\n",
      "\n"
     ]
    },
    {
     "name": "stderr",
     "output_type": "stream",
     "text": [
      " 62%|██████▏   | 620/1000 [02:52<01:46,  3.56it/s]"
     ]
    },
    {
     "name": "stdout",
     "output_type": "stream",
     "text": [
      "epoch 620\tloss : 0.000995131442323327\t accuracy : 0.710182767624021\n",
      "              precision    recall  f1-score   support\n",
      "\n",
      "         0.0       0.95      0.93      0.94       937\n",
      "         1.0       0.66      0.76      0.71       178\n",
      "\n",
      "    accuracy                           0.90      1115\n",
      "   macro avg       0.81      0.85      0.83      1115\n",
      "weighted avg       0.91      0.90      0.90      1115\n",
      "\n"
     ]
    },
    {
     "name": "stderr",
     "output_type": "stream",
     "text": [
      " 63%|██████▎   | 630/1000 [02:55<01:44,  3.54it/s]"
     ]
    },
    {
     "name": "stdout",
     "output_type": "stream",
     "text": [
      "epoch 630\tloss : 0.000951204274315387\t accuracy : 0.710182767624021\n",
      "              precision    recall  f1-score   support\n",
      "\n",
      "         0.0       0.95      0.93      0.94       937\n",
      "         1.0       0.66      0.76      0.71       178\n",
      "\n",
      "    accuracy                           0.90      1115\n",
      "   macro avg       0.81      0.85      0.83      1115\n",
      "weighted avg       0.91      0.90      0.90      1115\n",
      "\n"
     ]
    },
    {
     "name": "stderr",
     "output_type": "stream",
     "text": [
      " 64%|██████▍   | 640/1000 [02:58<01:40,  3.57it/s]"
     ]
    },
    {
     "name": "stdout",
     "output_type": "stream",
     "text": [
      "epoch 640\tloss : 0.0009118199814110994\t accuracy : 0.710182767624021\n",
      "              precision    recall  f1-score   support\n",
      "\n",
      "         0.0       0.95      0.93      0.94       937\n",
      "         1.0       0.66      0.76      0.71       178\n",
      "\n",
      "    accuracy                           0.90      1115\n",
      "   macro avg       0.81      0.85      0.83      1115\n",
      "weighted avg       0.91      0.90      0.90      1115\n",
      "\n"
     ]
    },
    {
     "name": "stderr",
     "output_type": "stream",
     "text": [
      " 65%|██████▌   | 650/1000 [03:01<01:38,  3.57it/s]"
     ]
    },
    {
     "name": "stdout",
     "output_type": "stream",
     "text": [
      "epoch 650\tloss : 0.0008767804247327149\t accuracy : 0.7083333333333334\n",
      "              precision    recall  f1-score   support\n",
      "\n",
      "         0.0       0.95      0.93      0.94       937\n",
      "         1.0       0.66      0.76      0.71       178\n",
      "\n",
      "    accuracy                           0.90      1115\n",
      "   macro avg       0.81      0.84      0.82      1115\n",
      "weighted avg       0.91      0.90      0.90      1115\n",
      "\n"
     ]
    },
    {
     "name": "stderr",
     "output_type": "stream",
     "text": [
      " 66%|██████▌   | 660/1000 [03:04<01:35,  3.57it/s]"
     ]
    },
    {
     "name": "stdout",
     "output_type": "stream",
     "text": [
      "epoch 660\tloss : 0.0008452608017250896\t accuracy : 0.7083333333333334\n",
      "              precision    recall  f1-score   support\n",
      "\n",
      "         0.0       0.95      0.93      0.94       937\n",
      "         1.0       0.66      0.76      0.71       178\n",
      "\n",
      "    accuracy                           0.90      1115\n",
      "   macro avg       0.81      0.84      0.82      1115\n",
      "weighted avg       0.91      0.90      0.90      1115\n",
      "\n"
     ]
    },
    {
     "name": "stderr",
     "output_type": "stream",
     "text": [
      " 67%|██████▋   | 670/1000 [03:07<01:32,  3.56it/s]"
     ]
    },
    {
     "name": "stdout",
     "output_type": "stream",
     "text": [
      "epoch 670\tloss : 0.0008167146006599069\t accuracy : 0.7064935064935065\n",
      "              precision    recall  f1-score   support\n",
      "\n",
      "         0.0       0.95      0.92      0.94       937\n",
      "         1.0       0.66      0.76      0.71       178\n",
      "\n",
      "    accuracy                           0.90      1115\n",
      "   macro avg       0.81      0.84      0.82      1115\n",
      "weighted avg       0.91      0.90      0.90      1115\n",
      "\n"
     ]
    },
    {
     "name": "stderr",
     "output_type": "stream",
     "text": [
      " 68%|██████▊   | 680/1000 [03:09<01:29,  3.56it/s]"
     ]
    },
    {
     "name": "stdout",
     "output_type": "stream",
     "text": [
      "epoch 680\tloss : 0.0007907137041911483\t accuracy : 0.7064935064935065\n",
      "              precision    recall  f1-score   support\n",
      "\n",
      "         0.0       0.95      0.92      0.94       937\n",
      "         1.0       0.66      0.76      0.71       178\n",
      "\n",
      "    accuracy                           0.90      1115\n",
      "   macro avg       0.81      0.84      0.82      1115\n",
      "weighted avg       0.91      0.90      0.90      1115\n",
      "\n"
     ]
    },
    {
     "name": "stderr",
     "output_type": "stream",
     "text": [
      " 69%|██████▉   | 690/1000 [03:12<01:26,  3.56it/s]"
     ]
    },
    {
     "name": "stdout",
     "output_type": "stream",
     "text": [
      "epoch 690\tloss : 0.0007671211496926844\t accuracy : 0.7064935064935065\n",
      "              precision    recall  f1-score   support\n",
      "\n",
      "         0.0       0.95      0.92      0.94       937\n",
      "         1.0       0.66      0.76      0.71       178\n",
      "\n",
      "    accuracy                           0.90      1115\n",
      "   macro avg       0.81      0.84      0.82      1115\n",
      "weighted avg       0.91      0.90      0.90      1115\n",
      "\n"
     ]
    },
    {
     "name": "stderr",
     "output_type": "stream",
     "text": [
      " 70%|███████   | 700/1000 [03:15<01:24,  3.57it/s]"
     ]
    },
    {
     "name": "stdout",
     "output_type": "stream",
     "text": [
      "epoch 700\tloss : 0.0007453823927789927\t accuracy : 0.7083333333333334\n",
      "              precision    recall  f1-score   support\n",
      "\n",
      "         0.0       0.95      0.93      0.94       937\n",
      "         1.0       0.66      0.76      0.71       178\n",
      "\n",
      "    accuracy                           0.90      1115\n",
      "   macro avg       0.81      0.84      0.82      1115\n",
      "weighted avg       0.91      0.90      0.90      1115\n",
      "\n"
     ]
    },
    {
     "name": "stderr",
     "output_type": "stream",
     "text": [
      " 71%|███████   | 710/1000 [03:18<01:21,  3.56it/s]"
     ]
    },
    {
     "name": "stdout",
     "output_type": "stream",
     "text": [
      "epoch 710\tloss : 0.0007254990050569177\t accuracy : 0.710182767624021\n",
      "              precision    recall  f1-score   support\n",
      "\n",
      "         0.0       0.95      0.93      0.94       937\n",
      "         1.0       0.66      0.76      0.71       178\n",
      "\n",
      "    accuracy                           0.90      1115\n",
      "   macro avg       0.81      0.85      0.83      1115\n",
      "weighted avg       0.91      0.90      0.90      1115\n",
      "\n"
     ]
    },
    {
     "name": "stderr",
     "output_type": "stream",
     "text": [
      " 72%|███████▏  | 720/1000 [03:21<01:18,  3.57it/s]"
     ]
    },
    {
     "name": "stdout",
     "output_type": "stream",
     "text": [
      "epoch 720\tloss : 0.0007071365835145116\t accuracy : 0.710182767624021\n",
      "              precision    recall  f1-score   support\n",
      "\n",
      "         0.0       0.95      0.93      0.94       937\n",
      "         1.0       0.66      0.76      0.71       178\n",
      "\n",
      "    accuracy                           0.90      1115\n",
      "   macro avg       0.81      0.85      0.83      1115\n",
      "weighted avg       0.91      0.90      0.90      1115\n",
      "\n"
     ]
    },
    {
     "name": "stderr",
     "output_type": "stream",
     "text": [
      " 73%|███████▎  | 730/1000 [03:23<01:15,  3.56it/s]"
     ]
    },
    {
     "name": "stdout",
     "output_type": "stream",
     "text": [
      "epoch 730\tloss : 0.0006901726592332125\t accuracy : 0.710182767624021\n",
      "              precision    recall  f1-score   support\n",
      "\n",
      "         0.0       0.95      0.93      0.94       937\n",
      "         1.0       0.66      0.76      0.71       178\n",
      "\n",
      "    accuracy                           0.90      1115\n",
      "   macro avg       0.81      0.85      0.83      1115\n",
      "weighted avg       0.91      0.90      0.90      1115\n",
      "\n"
     ]
    },
    {
     "name": "stderr",
     "output_type": "stream",
     "text": [
      " 74%|███████▍  | 740/1000 [03:26<01:12,  3.57it/s]"
     ]
    },
    {
     "name": "stdout",
     "output_type": "stream",
     "text": [
      "epoch 740\tloss : 0.0006743734120391309\t accuracy : 0.710182767624021\n",
      "              precision    recall  f1-score   support\n",
      "\n",
      "         0.0       0.95      0.93      0.94       937\n",
      "         1.0       0.66      0.76      0.71       178\n",
      "\n",
      "    accuracy                           0.90      1115\n",
      "   macro avg       0.81      0.85      0.83      1115\n",
      "weighted avg       0.91      0.90      0.90      1115\n",
      "\n"
     ]
    },
    {
     "name": "stderr",
     "output_type": "stream",
     "text": [
      " 75%|███████▌  | 750/1000 [03:29<01:10,  3.57it/s]"
     ]
    },
    {
     "name": "stdout",
     "output_type": "stream",
     "text": [
      "epoch 750\tloss : 0.0006597572937607765\t accuracy : 0.710182767624021\n",
      "              precision    recall  f1-score   support\n",
      "\n",
      "         0.0       0.95      0.93      0.94       937\n",
      "         1.0       0.66      0.76      0.71       178\n",
      "\n",
      "    accuracy                           0.90      1115\n",
      "   macro avg       0.81      0.85      0.83      1115\n",
      "weighted avg       0.91      0.90      0.90      1115\n",
      "\n"
     ]
    },
    {
     "name": "stderr",
     "output_type": "stream",
     "text": [
      " 76%|███████▌  | 760/1000 [03:32<01:07,  3.57it/s]"
     ]
    },
    {
     "name": "stdout",
     "output_type": "stream",
     "text": [
      "epoch 760\tloss : 0.0006461243028752506\t accuracy : 0.7083333333333334\n",
      "              precision    recall  f1-score   support\n",
      "\n",
      "         0.0       0.95      0.93      0.94       937\n",
      "         1.0       0.66      0.76      0.71       178\n",
      "\n",
      "    accuracy                           0.90      1115\n",
      "   macro avg       0.81      0.84      0.82      1115\n",
      "weighted avg       0.91      0.90      0.90      1115\n",
      "\n"
     ]
    },
    {
     "name": "stderr",
     "output_type": "stream",
     "text": [
      " 77%|███████▋  | 770/1000 [03:35<01:04,  3.57it/s]"
     ]
    },
    {
     "name": "stdout",
     "output_type": "stream",
     "text": [
      "epoch 770\tloss : 0.0006333880010060966\t accuracy : 0.7049608355091384\n",
      "              precision    recall  f1-score   support\n",
      "\n",
      "         0.0       0.95      0.93      0.94       937\n",
      "         1.0       0.66      0.76      0.70       178\n",
      "\n",
      "    accuracy                           0.90      1115\n",
      "   macro avg       0.81      0.84      0.82      1115\n",
      "weighted avg       0.91      0.90      0.90      1115\n",
      "\n"
     ]
    },
    {
     "name": "stderr",
     "output_type": "stream",
     "text": [
      " 78%|███████▊  | 780/1000 [03:37<01:01,  3.57it/s]"
     ]
    },
    {
     "name": "stdout",
     "output_type": "stream",
     "text": [
      "epoch 780\tloss : 0.0006214801105670631\t accuracy : 0.7068062827225131\n",
      "              precision    recall  f1-score   support\n",
      "\n",
      "         0.0       0.95      0.93      0.94       937\n",
      "         1.0       0.66      0.76      0.71       178\n",
      "\n",
      "    accuracy                           0.90      1115\n",
      "   macro avg       0.81      0.84      0.82      1115\n",
      "weighted avg       0.91      0.90      0.90      1115\n",
      "\n"
     ]
    },
    {
     "name": "stderr",
     "output_type": "stream",
     "text": [
      " 79%|███████▉  | 790/1000 [03:40<00:58,  3.57it/s]"
     ]
    },
    {
     "name": "stdout",
     "output_type": "stream",
     "text": [
      "epoch 790\tloss : 0.0006102576735429466\t accuracy : 0.7068062827225131\n",
      "              precision    recall  f1-score   support\n",
      "\n",
      "         0.0       0.95      0.93      0.94       937\n",
      "         1.0       0.66      0.76      0.71       178\n",
      "\n",
      "    accuracy                           0.90      1115\n",
      "   macro avg       0.81      0.84      0.82      1115\n",
      "weighted avg       0.91      0.90      0.90      1115\n",
      "\n"
     ]
    },
    {
     "name": "stderr",
     "output_type": "stream",
     "text": [
      " 80%|████████  | 800/1000 [03:43<00:56,  3.57it/s]"
     ]
    },
    {
     "name": "stdout",
     "output_type": "stream",
     "text": [
      "epoch 800\tloss : 0.0005997555563226342\t accuracy : 0.7068062827225131\n",
      "              precision    recall  f1-score   support\n",
      "\n",
      "         0.0       0.95      0.93      0.94       937\n",
      "         1.0       0.66      0.76      0.71       178\n",
      "\n",
      "    accuracy                           0.90      1115\n",
      "   macro avg       0.81      0.84      0.82      1115\n",
      "weighted avg       0.91      0.90      0.90      1115\n",
      "\n"
     ]
    },
    {
     "name": "stderr",
     "output_type": "stream",
     "text": [
      " 81%|████████  | 810/1000 [03:46<00:53,  3.57it/s]"
     ]
    },
    {
     "name": "stdout",
     "output_type": "stream",
     "text": [
      "epoch 810\tloss : 0.0005898637464269996\t accuracy : 0.7068062827225131\n",
      "              precision    recall  f1-score   support\n",
      "\n",
      "         0.0       0.95      0.93      0.94       937\n",
      "         1.0       0.66      0.76      0.71       178\n",
      "\n",
      "    accuracy                           0.90      1115\n",
      "   macro avg       0.81      0.84      0.82      1115\n",
      "weighted avg       0.91      0.90      0.90      1115\n",
      "\n"
     ]
    },
    {
     "name": "stderr",
     "output_type": "stream",
     "text": [
      " 82%|████████▏ | 820/1000 [03:49<00:50,  3.57it/s]"
     ]
    },
    {
     "name": "stdout",
     "output_type": "stream",
     "text": [
      "epoch 820\tloss : 0.0005805211258120835\t accuracy : 0.7068062827225131\n",
      "              precision    recall  f1-score   support\n",
      "\n",
      "         0.0       0.95      0.93      0.94       937\n",
      "         1.0       0.66      0.76      0.71       178\n",
      "\n",
      "    accuracy                           0.90      1115\n",
      "   macro avg       0.81      0.84      0.82      1115\n",
      "weighted avg       0.91      0.90      0.90      1115\n",
      "\n"
     ]
    },
    {
     "name": "stderr",
     "output_type": "stream",
     "text": [
      " 83%|████████▎ | 830/1000 [03:51<00:47,  3.57it/s]"
     ]
    },
    {
     "name": "stdout",
     "output_type": "stream",
     "text": [
      "epoch 830\tloss : 0.0005716988816857338\t accuracy : 0.7068062827225131\n",
      "              precision    recall  f1-score   support\n",
      "\n",
      "         0.0       0.95      0.93      0.94       937\n",
      "         1.0       0.66      0.76      0.71       178\n",
      "\n",
      "    accuracy                           0.90      1115\n",
      "   macro avg       0.81      0.84      0.82      1115\n",
      "weighted avg       0.91      0.90      0.90      1115\n",
      "\n"
     ]
    },
    {
     "name": "stderr",
     "output_type": "stream",
     "text": [
      " 84%|████████▍ | 840/1000 [03:54<00:44,  3.57it/s]"
     ]
    },
    {
     "name": "stdout",
     "output_type": "stream",
     "text": [
      "epoch 840\tloss : 0.000563319306820631\t accuracy : 0.710182767624021\n",
      "              precision    recall  f1-score   support\n",
      "\n",
      "         0.0       0.95      0.93      0.94       937\n",
      "         1.0       0.66      0.76      0.71       178\n",
      "\n",
      "    accuracy                           0.90      1115\n",
      "   macro avg       0.81      0.85      0.83      1115\n",
      "weighted avg       0.91      0.90      0.90      1115\n",
      "\n"
     ]
    },
    {
     "name": "stderr",
     "output_type": "stream",
     "text": [
      " 85%|████████▌ | 850/1000 [03:57<00:42,  3.56it/s]"
     ]
    },
    {
     "name": "stdout",
     "output_type": "stream",
     "text": [
      "epoch 850\tloss : 0.0005553694209083915\t accuracy : 0.710182767624021\n",
      "              precision    recall  f1-score   support\n",
      "\n",
      "         0.0       0.95      0.93      0.94       937\n",
      "         1.0       0.66      0.76      0.71       178\n",
      "\n",
      "    accuracy                           0.90      1115\n",
      "   macro avg       0.81      0.85      0.83      1115\n",
      "weighted avg       0.91      0.90      0.90      1115\n",
      "\n"
     ]
    },
    {
     "name": "stderr",
     "output_type": "stream",
     "text": [
      " 86%|████████▌ | 860/1000 [04:00<00:39,  3.57it/s]"
     ]
    },
    {
     "name": "stdout",
     "output_type": "stream",
     "text": [
      "epoch 860\tloss : 0.0005478623206727207\t accuracy : 0.7120418848167538\n",
      "              precision    recall  f1-score   support\n",
      "\n",
      "         0.0       0.95      0.93      0.94       937\n",
      "         1.0       0.67      0.76      0.71       178\n",
      "\n",
      "    accuracy                           0.90      1115\n",
      "   macro avg       0.81      0.85      0.83      1115\n",
      "weighted avg       0.91      0.90      0.90      1115\n",
      "\n"
     ]
    },
    {
     "name": "stderr",
     "output_type": "stream",
     "text": [
      " 87%|████████▋ | 870/1000 [04:03<00:36,  3.56it/s]"
     ]
    },
    {
     "name": "stdout",
     "output_type": "stream",
     "text": [
      "epoch 870\tloss : 0.000540715700481087\t accuracy : 0.7120418848167538\n",
      "              precision    recall  f1-score   support\n",
      "\n",
      "         0.0       0.95      0.93      0.94       937\n",
      "         1.0       0.67      0.76      0.71       178\n",
      "\n",
      "    accuracy                           0.90      1115\n",
      "   macro avg       0.81      0.85      0.83      1115\n",
      "weighted avg       0.91      0.90      0.90      1115\n",
      "\n"
     ]
    },
    {
     "name": "stderr",
     "output_type": "stream",
     "text": [
      " 88%|████████▊ | 880/1000 [04:05<00:33,  3.56it/s]"
     ]
    },
    {
     "name": "stdout",
     "output_type": "stream",
     "text": [
      "epoch 880\tloss : 0.0005339164636097848\t accuracy : 0.7120418848167538\n",
      "              precision    recall  f1-score   support\n",
      "\n",
      "         0.0       0.95      0.93      0.94       937\n",
      "         1.0       0.67      0.76      0.71       178\n",
      "\n",
      "    accuracy                           0.90      1115\n",
      "   macro avg       0.81      0.85      0.83      1115\n",
      "weighted avg       0.91      0.90      0.90      1115\n",
      "\n"
     ]
    },
    {
     "name": "stderr",
     "output_type": "stream",
     "text": [
      " 89%|████████▉ | 890/1000 [04:08<00:30,  3.57it/s]"
     ]
    },
    {
     "name": "stdout",
     "output_type": "stream",
     "text": [
      "epoch 890\tloss : 0.0005274167633615434\t accuracy : 0.7120418848167538\n",
      "              precision    recall  f1-score   support\n",
      "\n",
      "         0.0       0.95      0.93      0.94       937\n",
      "         1.0       0.67      0.76      0.71       178\n",
      "\n",
      "    accuracy                           0.90      1115\n",
      "   macro avg       0.81      0.85      0.83      1115\n",
      "weighted avg       0.91      0.90      0.90      1115\n",
      "\n"
     ]
    },
    {
     "name": "stderr",
     "output_type": "stream",
     "text": [
      " 90%|█████████ | 900/1000 [04:11<00:28,  3.57it/s]"
     ]
    },
    {
     "name": "stdout",
     "output_type": "stream",
     "text": [
      "epoch 900\tloss : 0.00052122981287539\t accuracy : 0.7139107611548555\n",
      "              precision    recall  f1-score   support\n",
      "\n",
      "         0.0       0.95      0.93      0.94       937\n",
      "         1.0       0.67      0.76      0.71       178\n",
      "\n",
      "    accuracy                           0.90      1115\n",
      "   macro avg       0.81      0.85      0.83      1115\n",
      "weighted avg       0.91      0.90      0.90      1115\n",
      "\n"
     ]
    },
    {
     "name": "stderr",
     "output_type": "stream",
     "text": [
      " 91%|█████████ | 910/1000 [04:14<00:25,  3.57it/s]"
     ]
    },
    {
     "name": "stdout",
     "output_type": "stream",
     "text": [
      "epoch 910\tloss : 0.0005153032834641635\t accuracy : 0.7139107611548555\n",
      "              precision    recall  f1-score   support\n",
      "\n",
      "         0.0       0.95      0.93      0.94       937\n",
      "         1.0       0.67      0.76      0.71       178\n",
      "\n",
      "    accuracy                           0.90      1115\n",
      "   macro avg       0.81      0.85      0.83      1115\n",
      "weighted avg       0.91      0.90      0.90      1115\n",
      "\n"
     ]
    },
    {
     "name": "stderr",
     "output_type": "stream",
     "text": [
      " 92%|█████████▏| 920/1000 [04:17<00:22,  3.56it/s]"
     ]
    },
    {
     "name": "stdout",
     "output_type": "stream",
     "text": [
      "epoch 920\tloss : 0.0005096285021863878\t accuracy : 0.7139107611548555\n",
      "              precision    recall  f1-score   support\n",
      "\n",
      "         0.0       0.95      0.93      0.94       937\n",
      "         1.0       0.67      0.76      0.71       178\n",
      "\n",
      "    accuracy                           0.90      1115\n",
      "   macro avg       0.81      0.85      0.83      1115\n",
      "weighted avg       0.91      0.90      0.90      1115\n",
      "\n"
     ]
    },
    {
     "name": "stderr",
     "output_type": "stream",
     "text": [
      " 93%|█████████▎| 930/1000 [04:19<00:19,  3.57it/s]"
     ]
    },
    {
     "name": "stdout",
     "output_type": "stream",
     "text": [
      "epoch 930\tloss : 0.0005041666445322335\t accuracy : 0.7172774869109947\n",
      "              precision    recall  f1-score   support\n",
      "\n",
      "         0.0       0.95      0.93      0.94       937\n",
      "         1.0       0.67      0.77      0.72       178\n",
      "\n",
      "    accuracy                           0.90      1115\n",
      "   macro avg       0.81      0.85      0.83      1115\n",
      "weighted avg       0.91      0.90      0.91      1115\n",
      "\n"
     ]
    },
    {
     "name": "stderr",
     "output_type": "stream",
     "text": [
      " 94%|█████████▍| 940/1000 [04:22<00:16,  3.56it/s]"
     ]
    },
    {
     "name": "stdout",
     "output_type": "stream",
     "text": [
      "epoch 940\tloss : 0.000498988782055676\t accuracy : 0.7135416666666665\n",
      "              precision    recall  f1-score   support\n",
      "\n",
      "         0.0       0.95      0.93      0.94       937\n",
      "         1.0       0.67      0.77      0.71       178\n",
      "\n",
      "    accuracy                           0.90      1115\n",
      "   macro avg       0.81      0.85      0.83      1115\n",
      "weighted avg       0.91      0.90      0.90      1115\n",
      "\n"
     ]
    },
    {
     "name": "stderr",
     "output_type": "stream",
     "text": [
      " 95%|█████████▌| 950/1000 [04:25<00:14,  3.57it/s]"
     ]
    },
    {
     "name": "stdout",
     "output_type": "stream",
     "text": [
      "epoch 950\tloss : 0.0004939599893987179\t accuracy : 0.7135416666666665\n",
      "              precision    recall  f1-score   support\n",
      "\n",
      "         0.0       0.95      0.93      0.94       937\n",
      "         1.0       0.67      0.77      0.71       178\n",
      "\n",
      "    accuracy                           0.90      1115\n",
      "   macro avg       0.81      0.85      0.83      1115\n",
      "weighted avg       0.91      0.90      0.90      1115\n",
      "\n"
     ]
    },
    {
     "name": "stderr",
     "output_type": "stream",
     "text": [
      " 96%|█████████▌| 960/1000 [04:28<00:11,  3.57it/s]"
     ]
    },
    {
     "name": "stdout",
     "output_type": "stream",
     "text": [
      "epoch 960\tloss : 0.0004891288699582219\t accuracy : 0.7135416666666665\n",
      "              precision    recall  f1-score   support\n",
      "\n",
      "         0.0       0.95      0.93      0.94       937\n",
      "         1.0       0.67      0.77      0.71       178\n",
      "\n",
      "    accuracy                           0.90      1115\n",
      "   macro avg       0.81      0.85      0.83      1115\n",
      "weighted avg       0.91      0.90      0.90      1115\n",
      "\n"
     ]
    },
    {
     "name": "stderr",
     "output_type": "stream",
     "text": [
      " 97%|█████████▋| 970/1000 [04:31<00:08,  3.57it/s]"
     ]
    },
    {
     "name": "stdout",
     "output_type": "stream",
     "text": [
      "epoch 970\tloss : 0.0004844973445869982\t accuracy : 0.7135416666666665\n",
      "              precision    recall  f1-score   support\n",
      "\n",
      "         0.0       0.95      0.93      0.94       937\n",
      "         1.0       0.67      0.77      0.71       178\n",
      "\n",
      "    accuracy                           0.90      1115\n",
      "   macro avg       0.81      0.85      0.83      1115\n",
      "weighted avg       0.91      0.90      0.90      1115\n",
      "\n"
     ]
    },
    {
     "name": "stderr",
     "output_type": "stream",
     "text": [
      " 98%|█████████▊| 980/1000 [04:33<00:05,  3.57it/s]"
     ]
    },
    {
     "name": "stdout",
     "output_type": "stream",
     "text": [
      "epoch 980\tloss : 0.0004800430906470865\t accuracy : 0.7135416666666665\n",
      "              precision    recall  f1-score   support\n",
      "\n",
      "         0.0       0.95      0.93      0.94       937\n",
      "         1.0       0.67      0.77      0.71       178\n",
      "\n",
      "    accuracy                           0.90      1115\n",
      "   macro avg       0.81      0.85      0.83      1115\n",
      "weighted avg       0.91      0.90      0.90      1115\n",
      "\n"
     ]
    },
    {
     "name": "stderr",
     "output_type": "stream",
     "text": [
      " 99%|█████████▉| 990/1000 [04:36<00:02,  3.53it/s]"
     ]
    },
    {
     "name": "stdout",
     "output_type": "stream",
     "text": [
      "epoch 990\tloss : 0.00047575627104379237\t accuracy : 0.7135416666666665\n",
      "              precision    recall  f1-score   support\n",
      "\n",
      "         0.0       0.95      0.93      0.94       937\n",
      "         1.0       0.67      0.77      0.71       178\n",
      "\n",
      "    accuracy                           0.90      1115\n",
      "   macro avg       0.81      0.85      0.83      1115\n",
      "weighted avg       0.91      0.90      0.90      1115\n",
      "\n"
     ]
    },
    {
     "name": "stderr",
     "output_type": "stream",
     "text": [
      "100%|██████████| 1000/1000 [04:39<00:00,  3.58it/s]"
     ]
    },
    {
     "name": "stdout",
     "output_type": "stream",
     "text": [
      "epoch 1000\tloss : 0.00047154241474345326\t accuracy : 0.7135416666666665\n",
      "              precision    recall  f1-score   support\n",
      "\n",
      "         0.0       0.95      0.93      0.94       937\n",
      "         1.0       0.67      0.77      0.71       178\n",
      "\n",
      "    accuracy                           0.90      1115\n",
      "   macro avg       0.81      0.85      0.83      1115\n",
      "weighted avg       0.91      0.90      0.90      1115\n",
      "\n"
     ]
    },
    {
     "name": "stderr",
     "output_type": "stream",
     "text": [
      "\n"
     ]
    }
   ],
   "source": [
    "import torch.optim as optim\n",
    "import time\n",
    "import math\n",
    "\n",
    "criterion = nn.BCELoss()\n",
    "learning_rate = 0.0005\n",
    "optimizer = optim.Adam(rnn.parameters(),lr=learning_rate)\n",
    "#scheduler = optim.lr_scheduler.StepLR(optimizer, step_size=10000, gamma=0.1)\n",
    "\n",
    "n_iters = 1000\n",
    "print_every = 10\n",
    "plot_every = 10\n",
    "batch_size = 256\n",
    "\n",
    "# Keep track of losses for plotting\n",
    "current_loss = 0\n",
    "all_losses = []\n",
    "accur = []\n",
    "\n",
    "def timeSince(since):\n",
    "    now = time.time()\n",
    "    s = now - since\n",
    "    m = math.floor(s / 60)\n",
    "    s -= m * 60\n",
    "    return '%dm %ds' % (m, s)\n",
    "\n",
    "sleep_activities = ensemble_activities[0]\n",
    "train, test = list(tsv.split(mean_features, sleep_activities))[-1]\n",
    "\n",
    "print('X_train shape:', mean_features[train].shape)\n",
    "print('y_train shape:', sleep_activities[train].shape)\n",
    "train_features, train_activities = mean_features[train], sleep_activities[train]\n",
    "dev_features, dev_activities = mean_features[test], sleep_activities[test]\n",
    "\n",
    "start = time.time()\n",
    "\n",
    "for iter in trange(1, n_iters + 1):\n",
    "    \n",
    "    train_labels, train_tensor = torch.tensor(train_activities, dtype=torch.float32), torch.tensor(train_features, dtype=torch.float32)\n",
    "    dev_labels, dev_tensor = torch.tensor(dev_activities, dtype=torch.float32), torch.tensor(dev_features, dtype=torch.float32)\n",
    "\n",
    "    train_tensor = train_tensor.to(device)\n",
    "    train_labels = train_labels.to(device).unsqueeze(1)\n",
    "\n",
    "    dev_tensor = dev_tensor.to(device)\n",
    "    dev_labels = dev_labels.to(device).unsqueeze(1)\n",
    "    \n",
    "    optimizer.zero_grad()\n",
    "    \n",
    "    output = rnn(train_tensor)\n",
    "    loss = criterion(output, train_labels)\n",
    "    loss.backward()\n",
    "    optimizer.step()\n",
    "    #scheduler.step()\n",
    "    \n",
    "    prediction = rnn(dev_tensor)\n",
    "    pred_cpu =  prediction.reshape(-1).cpu().detach().numpy().round()\n",
    "    acc = f1_score(dev_activities, pred_cpu)\n",
    "    #backprop\n",
    "\n",
    "    if iter%print_every == 0:\n",
    "        accur.append(acc)\n",
    "        print(\"epoch {}\\tloss : {}\\t accuracy : {}\".format(iter,loss,acc))\n",
    "        print(classification_report(dev_activities, pred_cpu))\n",
    "    \n",
    "    current_loss += loss.item()\n",
    "    \n",
    "    # category = LABELS[int(category_tensor[0])]\n",
    "\n",
    "    # # Print iter number, loss, name and guess\n",
    "    # if iter % print_every == 0:\n",
    "    #     guess, guess_i = categoryFromOutput(output)\n",
    "    #     correct = '✓' if guess == category else '✗ (%s)' % category\n",
    "    #     print('%d %d%% (%s) %.4f  / %s %s' % (iter, iter / n_iters * 100, timeSince(start), loss, guess, correct))\n",
    "        \n",
    "    # Add current loss avg to list of losses\n",
    "    if iter % plot_every == 0:\n",
    "        all_losses.append(current_loss / plot_every)\n",
    "        current_loss = 0"
   ]
  },
  {
   "cell_type": "code",
   "execution_count": null,
   "metadata": {},
   "outputs": [],
   "source": [
    "all_losses"
   ]
  },
  {
   "cell_type": "code",
   "execution_count": null,
   "metadata": {},
   "outputs": [],
   "source": [
    "# Score accuracy if at least one is true\n",
    "\n",
    "category_tensor[0].dtype"
   ]
  },
  {
   "cell_type": "markdown",
   "metadata": {},
   "source": [
    "### TODO\n",
    "- Apply the model to other activities and plot heatmap\n",
    "- Check any paper talked about approach for weight for window size\n",
    "- Multi-label, consider the correlation between labels\n",
    "- Consider more data from hh1xx dataset"
   ]
  },
  {
   "cell_type": "markdown",
   "metadata": {},
   "source": [
    "### Mean and std"
   ]
  },
  {
   "cell_type": "markdown",
   "metadata": {},
   "source": []
  },
  {
   "cell_type": "markdown",
   "metadata": {},
   "source": [
    "### Mean, std, max, min and crossing rate"
   ]
  },
  {
   "cell_type": "markdown",
   "metadata": {},
   "source": []
  },
  {
   "cell_type": "markdown",
   "metadata": {},
   "source": [
    "### Mean with weight for each time window"
   ]
  },
  {
   "cell_type": "markdown",
   "metadata": {},
   "source": []
  }
 ],
 "metadata": {
  "kernelspec": {
   "display_name": "Python 3.7.15 ('casas')",
   "language": "python",
   "name": "python3"
  },
  "language_info": {
   "codemirror_mode": {
    "name": "ipython",
    "version": 3
   },
   "file_extension": ".py",
   "mimetype": "text/x-python",
   "name": "python",
   "nbconvert_exporter": "python",
   "pygments_lexer": "ipython3",
   "version": "3.7.15"
  },
  "orig_nbformat": 4,
  "vscode": {
   "interpreter": {
    "hash": "2b07d098504fae4e94052a8c08597679d68db589eb60c25e2699a70e87af64b1"
   }
  }
 },
 "nbformat": 4,
 "nbformat_minor": 2
}
