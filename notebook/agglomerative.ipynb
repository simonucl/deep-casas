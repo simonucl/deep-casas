{
 "cells": [
  {
   "cell_type": "code",
   "execution_count": 2,
   "metadata": {},
   "outputs": [
    {
     "name": "stderr",
     "output_type": "stream",
     "text": [
      "/home/simon/miniconda3/envs/casas/lib/python3.7/site-packages/tqdm/auto.py:22: TqdmWarning: IProgress not found. Please update jupyter and ipywidgets. See https://ipywidgets.readthedocs.io/en/stable/user_install.html\n",
      "  from .autonotebook import tqdm as notebook_tqdm\n"
     ]
    }
   ],
   "source": [
    "import datetime\n",
    "import os\n",
    "import re\n",
    "from collections import Counter\n",
    "from datetime import datetime, timedelta\n",
    "\n",
    "import numpy as np\n",
    "from keras.preprocessing import sequence\n",
    "import sys\n",
    "import pandas as pd\n",
    "import matplotlib.pyplot as plt\n",
    "from tqdm import tqdm, trange\n",
    "import umap\n",
    "from sklearn.preprocessing import StandardScaler\n",
    "from sklearn.metrics import confusion_matrix, classification_report, ConfusionMatrixDisplay\n",
    "from sklearn.model_selection import StratifiedKFold, TimeSeriesSplit\n",
    "from sklearn.ensemble import RandomForestClassifier\n",
    "import seaborn as sns\n",
    "from scipy.cluster.hierarchy import dendrogram, linkage\n",
    "import sklearn\n",
    "from collections import Counter\n",
    "\n",
    "from sklearn.metrics import pairwise_distances\n",
    "import sys\n",
    "sys.path.append('../')\n",
    "from ftw_model.extract_feature import computing_feature_wo\n",
    "from data_ori import load_dataset\n",
    "import textdistance"
   ]
  },
  {
   "cell_type": "code",
   "execution_count": 3,
   "metadata": {},
   "outputs": [],
   "source": [
    "def read_hh_dataset(dataset_path):\n",
    "\n",
    "    ann_dataset = pd.read_csv(dataset_path, sep='\\t')\n",
    "\n",
    "    raw_columns = ['Date & Time', 'Sensor ID', 'Room-level', 'Sensor location', 'Message', 'Sensor Type']\n",
    "    ann_columns = raw_columns + ['Activity']\n",
    "\n",
    "    ann_dataset.columns = ann_columns\n",
    "    # ann_dataset['Activity'] = ann_dataset['Activity'].apply(lambda x: activity_mapping[x] if x in activity_mapping else x)\n",
    "\n",
    "    ann_dataset['Date & Time'] = pd.to_datetime(ann_dataset['Date & Time'], format='%Y-%m-%d %H:%M:%S')\n",
    "    start_time, end_time = ann_dataset['Date & Time'].min(), ann_dataset['Date & Time'].max()\n",
    "    timeframed_dataset = ann_dataset.set_index(['Date & Time'])\n",
    "\n",
    "    activity2id = {}\n",
    "    count = 0\n",
    "    for act in ann_dataset['Activity'].unique():\n",
    "        if act != 'Other_Activity':\n",
    "            activity2id[act] = count\n",
    "            count += 1\n",
    "    activity2id['Other_Activity'] = count\n",
    "    \n",
    "    return timeframed_dataset, start_time, end_time, activity2id"
   ]
  },
  {
   "cell_type": "code",
   "execution_count": 15,
   "metadata": {},
   "outputs": [],
   "source": [
    "# load data in npy/cairo\n",
    "X, Y, dictActivities = load_dataset('../dataset/cairo')\n",
    "milan_X, milan_Y, milan_dictActivities = load_dataset('../dataset/milan')"
   ]
  },
  {
   "cell_type": "code",
   "execution_count": 4,
   "metadata": {},
   "outputs": [],
   "source": [
    "X, Y, dictActivities = np.load('../npy/cairo-x.npy', allow_pickle=True), np.load('../npy/cairo-y.npy', allow_pickle=True), np.load('../npy/cairo-labels.npy', allow_pickle=True).item()\n",
    "milan_X, milan_Y, milan_dictActivities = np.load('../npy/milan-x.npy', allow_pickle=True), np.load('../npy/milan-y.npy', allow_pickle=True), np.load('../npy/milan-labels.npy', allow_pickle=True).item()"
   ]
  },
  {
   "cell_type": "code",
   "execution_count": 5,
   "metadata": {},
   "outputs": [
    {
     "data": {
      "text/plain": [
       "{'Other': 0,\n",
       " 'Bed_to_toilet': 6,\n",
       " 'Take_medicine': 2,\n",
       " 'Eat': 5,\n",
       " 'Leave_Home': 4,\n",
       " 'Sleep': 3,\n",
       " 'Work': 1}"
      ]
     },
     "execution_count": 5,
     "metadata": {},
     "output_type": "execute_result"
    }
   ],
   "source": [
    "dictActivities"
   ]
  },
  {
   "cell_type": "code",
   "execution_count": 6,
   "metadata": {},
   "outputs": [
    {
     "data": {
      "text/plain": [
       "{'Other': 0,\n",
       " 'Bed_to_toilet': 8,\n",
       " 'Sleep': 3,\n",
       " 'Take_medicine': 2,\n",
       " 'Relax': 4,\n",
       " 'Cook': 7,\n",
       " 'Work': 1,\n",
       " 'Leave_Home': 5,\n",
       " 'Bathing': 9,\n",
       " 'Eat': 6}"
      ]
     },
     "execution_count": 6,
     "metadata": {},
     "output_type": "execute_result"
    }
   ],
   "source": [
    "milan_dictActivities"
   ]
  },
  {
   "cell_type": "code",
   "execution_count": null,
   "metadata": {},
   "outputs": [],
   "source": []
  }
 ],
 "metadata": {
  "kernelspec": {
   "display_name": "casas",
   "language": "python",
   "name": "python3"
  },
  "language_info": {
   "codemirror_mode": {
    "name": "ipython",
    "version": 3
   },
   "file_extension": ".py",
   "mimetype": "text/x-python",
   "name": "python",
   "nbconvert_exporter": "python",
   "pygments_lexer": "ipython3",
   "version": "3.7.15"
  },
  "orig_nbformat": 4
 },
 "nbformat": 4,
 "nbformat_minor": 2
}
